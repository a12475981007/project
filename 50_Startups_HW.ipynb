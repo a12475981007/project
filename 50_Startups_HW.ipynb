{
  "nbformat": 4,
  "nbformat_minor": 0,
  "metadata": {
    "colab": {
      "name": "50_Startups_20221012.ipynb",
      "provenance": []
    },
    "kernelspec": {
      "name": "python3",
      "display_name": "Python 3"
    },
    "language_info": {
      "name": "python"
    }
  },
  "cells": [
    {
      "cell_type": "markdown",
      "metadata": {
        "id": "i_yVVNxxiguo"
      },
      "source": [
        "# Topic : Lecture 3 Multi-Linear regression\n",
        "<img src=\"https://www.tribloom.com/wp-content/uploads/2019/08/CRISP-DM_Process_Diagram-768x769.png\" height=300>\n",
        "\n",
        "Follow the CRSIP-DM method\n",
        "1. Step 1: Import library, import data\n",
        "2. Step 2: Pre-processing (missing data, categorical type, normalization, format transform)\n",
        "3. Step 3: Build ML Model\n",
        "4. Step 4: Evaluate Model\n",
        "5. Step 5: Deploy (Prediction)\n"
      ]
    },
    {
      "cell_type": "code",
      "metadata": {
        "id": "wwcxdMbAznz8"
      },
      "source": [],
      "execution_count": 18,
      "outputs": []
    },
    {
      "cell_type": "code",
      "metadata": {
        "id": "L8crnXTazoGB"
      },
      "source": [],
      "execution_count": 18,
      "outputs": []
    },
    {
      "cell_type": "markdown",
      "metadata": {
        "id": "2GCRWZkZjN9l"
      },
      "source": [
        "## Step 1: Load data (also import library)"
      ]
    },
    {
      "cell_type": "code",
      "metadata": {
        "colab": {
          "base_uri": "https://localhost:8080/"
        },
        "id": "etxMQrAGewis",
        "outputId": "1fee3de7-cf95-4296-bb5b-ee7eac3c6a36"
      },
      "source": [
        "# import library\n",
        "import numpy as np\n",
        "import pandas as pd\n",
        "import matplotlib.pyplot as plt\n",
        "\n",
        "#import data\n",
        "data=pd.read_csv(\"50_Startups.csv\")\n",
        "print(data.head()) # show first 5 items\n",
        "print(type(data))\n",
        "print(data.info())\n",
        "\n",
        "\n"
      ],
      "execution_count": 19,
      "outputs": [
        {
          "output_type": "stream",
          "name": "stdout",
          "text": [
            "   R&D Spend  Administration  Marketing Spend       State     Profit\n",
            "0  165349.20       136897.80        471784.10    New York  192261.83\n",
            "1  162597.70       151377.59        443898.53  California  191792.06\n",
            "2  153441.51       101145.55        407934.54     Florida  191050.39\n",
            "3  144372.41       118671.85        383199.62    New York  182901.99\n",
            "4  142107.34        91391.77        366168.42     Florida  166187.94\n",
            "<class 'pandas.core.frame.DataFrame'>\n",
            "<class 'pandas.core.frame.DataFrame'>\n",
            "RangeIndex: 50 entries, 0 to 49\n",
            "Data columns (total 5 columns):\n",
            " #   Column           Non-Null Count  Dtype  \n",
            "---  ------           --------------  -----  \n",
            " 0   R&D Spend        50 non-null     float64\n",
            " 1   Administration   50 non-null     float64\n",
            " 2   Marketing Spend  50 non-null     float64\n",
            " 3   State            50 non-null     object \n",
            " 4   Profit           50 non-null     float64\n",
            "dtypes: float64(4), object(1)\n",
            "memory usage: 2.1+ KB\n",
            "None\n"
          ]
        }
      ]
    },
    {
      "cell_type": "code",
      "metadata": {
        "id": "ACDISJY0gJR3"
      },
      "source": [],
      "execution_count": 19,
      "outputs": []
    },
    {
      "cell_type": "code",
      "metadata": {
        "id": "h_q7dhHikvqg"
      },
      "source": [],
      "execution_count": 19,
      "outputs": []
    },
    {
      "cell_type": "markdown",
      "metadata": {
        "id": "IZeClHb-jUhh"
      },
      "source": [
        "# Step 2: Pre-process X, Y\n",
        "* 資料型別的 transformation) format transform (轉換成numpy format)\n",
        "* (missing data=> imputation, \n",
        "* normalization\n",
        "* data type 例如 categorical data onehot encoding, Label_Encoding, padas 套件有一個簡單的 get_dummies 的API\n",
        "\n"
      ]
    },
    {
      "cell_type": "code",
      "metadata": {
        "colab": {
          "base_uri": "https://localhost:8080/"
        },
        "id": "uFbekwkvjSv7",
        "outputId": "01f56c8d-bf47-44cc-fafc-928a4afa8cc2"
      },
      "source": [
        "#1. (missing data=> imputation,\n",
        "# no missing data\n",
        "\n",
        "#2. normalization\n",
        "# Skip sklearn linear model 會幫我們做\n",
        "\n",
        "#3. nominal data 的轉換 ==> pandas 下面 pd.getdummies\n",
        "#==> X 5個特徵 1Y\n",
        "\n",
        "X=data.iloc[:,:-1]\n",
        "Y=data.iloc[:,-1]\n",
        "\n",
        "print('--------------------------------Before ont hot encode--------------------------------')\n",
        "print(X[:5],'\\n')\n",
        "\n",
        "\n",
        "################ one hot encode ################\n",
        "X=pd.get_dummies(X)\n",
        "\n",
        "print('--------------------------------After ont hot encode--------------------------------')\n",
        "print(X[:5],'\\n')\n",
        "\n",
        "################ Reshape X ################\n",
        "X=X.values.reshape(-1,6)\n",
        "\n",
        "print('--------------------------------After reshape--------------------------------')\n",
        "print(X[:5,3:],'\\n')\n",
        "\n",
        "\n",
        "\n",
        "print('--------------------------------Before transformate Y--------------------------------')\n",
        "print(type(Y),'\\n')\n",
        "\n",
        "\n",
        "#4. 資料型別的 transformation) format transform (轉換成numpy format)\n",
        "Y=Y.values.reshape(-1,1)\n",
        "\n",
        "print('--------------------------------After transformate Y--------------------------------')\n",
        "print(type(Y),'\\n')\n",
        "\n",
        "\n",
        "#去除X最後一列\n",
        "X=X[:,:-1] \n",
        "\n",
        "print('--------------------------------Before Random Split Date to Test&Train--------------------------------')\n",
        "print(type(X),X.shape)\n",
        "print(type(Y),Y.shape)\n",
        "print('\\n')\n",
        "\n",
        "from sklearn.model_selection import train_test_split\n",
        "#使用 sklearn.model_selection.train_test_spli 隨機切分訓練資料與測試資料\n",
        "#test_size 設定所有資料百分比為測試資料\n",
        "#random_state 隨機數種子：其實就是該組隨機數的編號，在需要重複試驗的時候，保證得到一組一樣的隨機數。比如你每次都填1，其他引數一樣的情況下你得到的隨機陣列是一樣的。但填0或不填，每次都會不一樣。\n",
        "X_train, X_test, Y_train, Y_test = train_test_split(X, Y, test_size = 0.2, random_state = 0)\n",
        "print('--------------------------------After Random Split Date to Test&Train--------------------------------')\n",
        "print(type(X_train),X_train.shape)\n",
        "print(type(Y_train),Y_train.shape)"
      ],
      "execution_count": 20,
      "outputs": [
        {
          "output_type": "stream",
          "name": "stdout",
          "text": [
            "--------------------------------Before ont hot encode--------------------------------\n",
            "   R&D Spend  Administration  Marketing Spend       State\n",
            "0  165349.20       136897.80        471784.10    New York\n",
            "1  162597.70       151377.59        443898.53  California\n",
            "2  153441.51       101145.55        407934.54     Florida\n",
            "3  144372.41       118671.85        383199.62    New York\n",
            "4  142107.34        91391.77        366168.42     Florida \n",
            "\n",
            "--------------------------------After ont hot encode--------------------------------\n",
            "   R&D Spend  Administration  Marketing Spend  State_California  \\\n",
            "0  165349.20       136897.80        471784.10                 0   \n",
            "1  162597.70       151377.59        443898.53                 1   \n",
            "2  153441.51       101145.55        407934.54                 0   \n",
            "3  144372.41       118671.85        383199.62                 0   \n",
            "4  142107.34        91391.77        366168.42                 0   \n",
            "\n",
            "   State_Florida  State_New York  \n",
            "0              0               1  \n",
            "1              0               0  \n",
            "2              1               0  \n",
            "3              0               1  \n",
            "4              1               0   \n",
            "\n",
            "--------------------------------After reshape--------------------------------\n",
            "[[0. 0. 1.]\n",
            " [1. 0. 0.]\n",
            " [0. 1. 0.]\n",
            " [0. 0. 1.]\n",
            " [0. 1. 0.]] \n",
            "\n",
            "--------------------------------Before transformate Y--------------------------------\n",
            "<class 'pandas.core.series.Series'> \n",
            "\n",
            "--------------------------------After transformate Y--------------------------------\n",
            "<class 'numpy.ndarray'> \n",
            "\n",
            "--------------------------------Before Random Split Date to Test&Train--------------------------------\n",
            "<class 'numpy.ndarray'> (50, 5)\n",
            "<class 'numpy.ndarray'> (50, 1)\n",
            "\n",
            "\n",
            "--------------------------------After Random Split Date to Test&Train--------------------------------\n",
            "<class 'numpy.ndarray'> (40, 5)\n",
            "<class 'numpy.ndarray'> (40, 1)\n"
          ]
        }
      ]
    },
    {
      "cell_type": "markdown",
      "source": [
        "# 將值為0 替換為平均數\n"
      ],
      "metadata": {
        "id": "8mmXptneiCeu"
      }
    },
    {
      "cell_type": "code",
      "source": [
        "from sklearn.impute import SimpleImputer\n",
        "imputer = SimpleImputer(missing_values=0, strategy='mean')\n",
        "imputer.fit(X[:, 0:3])\n",
        "X[:, 0:3] = imputer.transform(X[:, 0:3] )"
      ],
      "metadata": {
        "id": "G616BL0KiQx2"
      },
      "execution_count": 21,
      "outputs": []
    },
    {
      "cell_type": "markdown",
      "metadata": {
        "id": "9QPyEdSBjayd"
      },
      "source": [
        "# Step 3: Build Model for training"
      ]
    },
    {
      "cell_type": "code",
      "metadata": {
        "colab": {
          "base_uri": "https://localhost:8080/"
        },
        "id": "LerAPU8FoPqI",
        "outputId": "1ebb5481-740a-405c-ddc6-1c9565e3447f"
      },
      "source": [
        "from sklearn.linear_model import LinearRegression as LR\n",
        "model=LR()  # constructor\n",
        "#all in policy\n",
        "model.fit(X_train,Y_train) # training==> find a* and b*\n",
        "\n",
        "print(model) \n",
        "print(\"a*=\",model.coef_,\"b*=\",model.intercept_, )\n"
      ],
      "execution_count": 22,
      "outputs": [
        {
          "output_type": "stream",
          "name": "stdout",
          "text": [
            "LinearRegression()\n",
            "a*= [[ 7.73467193e-01  3.28845975e-02  3.66100259e-02 -6.99369053e+02\n",
            "  -1.65865321e+03]] b*= [43253.53667068]\n"
          ]
        }
      ]
    },
    {
      "cell_type": "markdown",
      "metadata": {
        "id": "k9iQ2Zoljhv3"
      },
      "source": [
        "# Step 4: Evalute Model"
      ]
    },
    {
      "cell_type": "code",
      "metadata": {
        "id": "cUp3s-j9podg",
        "colab": {
          "base_uri": "https://localhost:8080/"
        },
        "outputId": "33681806-1d82-4d4f-809a-f460208ad556"
      },
      "source": [
        "from sklearn.metrics import r2_score as R2\n",
        "from sklearn.metrics import mean_squared_error as MSE\n",
        "yPre=model.predict(X_train)\n",
        "print(\"MSE=\",MSE(Y_train,yPre))\n",
        "print(\"R2=\",R2(Y_train,yPre))\n",
        "\n",
        "\n",
        "#backward selection \n",
        "#檢查p-values select 重要的特徵\n",
        "import statsmodels.api as sm\n",
        "X_train = np.append(arr = np.ones((40, 1)).astype(int), values = X_train, axis = 1)\n",
        "X_opt = X_train [:, [0, 1, 2, 3, 4, 5]]\n",
        "regressor_OLS = sm.OLS(endog = Y_train, exog = X_opt).fit()\n",
        "print(\"===================================================\")\n",
        "print('0-5', regressor_OLS.summary())\n",
        "print(\"====================================================\")\n",
        "\n",
        "\n",
        "X_opt = X_train [:, [0, 1, 2, 3, 5]]\n",
        "regressor_OLS = sm.OLS(endog = Y_train, exog = X_opt).fit()\n",
        "print(\"====================================================\")\n",
        "print('01235',regressor_OLS.summary())\n",
        "print(\"====================================================\")\n",
        "\n",
        "X_opt = X_train [:, [0, 1, 2, 3]]\n",
        "regressor_OLS = sm.OLS(endog = Y_train, exog = X_opt).fit()\n",
        "print(\"====================================================\")\n",
        "print('0123',regressor_OLS.summary())\n",
        "print(\"====================================================\")\n",
        "\n",
        "\n",
        "X_opt = X_train [:, [0, 1, 3]]\n",
        "regressor_OLS = sm.OLS(endog = Y_train, exog = X_opt).fit()\n",
        "print(\"====================================================\")\n",
        "print('013',regressor_OLS.summary())\n",
        "print(\"====================================================\")\n",
        "\n",
        "\n",
        "X_opt = X_train [:, [0, 1]]\n",
        "regressor_OLS = sm.OLS(endog = Y_train, exog = X_opt).fit()\n",
        "print(\"====================================================\")\n",
        "print('01',regressor_OLS.summary())\n",
        "print(\"====================================================\")\n",
        "\n",
        "\n"
      ],
      "execution_count": 23,
      "outputs": [
        {
          "output_type": "stream",
          "name": "stdout",
          "text": [
            "MSE= 81571001.8007737\n",
            "R2= 0.9501847627493607\n",
            "===================================================\n",
            "0-5                             OLS Regression Results                            \n",
            "==============================================================================\n",
            "Dep. Variable:                      y   R-squared:                       0.950\n",
            "Model:                            OLS   Adj. R-squared:                  0.943\n",
            "Method:                 Least Squares   F-statistic:                     129.7\n",
            "Date:                Wed, 12 Oct 2022   Prob (F-statistic):           3.91e-21\n",
            "Time:                        09:00:59   Log-Likelihood:                -421.10\n",
            "No. Observations:                  40   AIC:                             854.2\n",
            "Df Residuals:                      34   BIC:                             864.3\n",
            "Df Model:                           5                                         \n",
            "Covariance Type:            nonrobust                                         \n",
            "==============================================================================\n",
            "                 coef    std err          t      P>|t|      [0.025      0.975]\n",
            "------------------------------------------------------------------------------\n",
            "const       4.325e+04   8315.816      5.201      0.000    2.64e+04    6.02e+04\n",
            "x1             0.7735      0.055     14.025      0.000       0.661       0.886\n",
            "x2             0.0329      0.066      0.495      0.624      -0.102       0.168\n",
            "x3             0.0366      0.019      1.884      0.068      -0.003       0.076\n",
            "x4          -699.3691   3661.563     -0.191      0.850   -8140.560    6741.822\n",
            "x5         -1658.6532   4209.221     -0.394      0.696   -1.02e+04    6895.513\n",
            "==============================================================================\n",
            "Omnibus:                       15.823   Durbin-Watson:                   2.468\n",
            "Prob(Omnibus):                  0.000   Jarque-Bera (JB):               23.231\n",
            "Skew:                          -1.094   Prob(JB):                     9.03e-06\n",
            "Kurtosis:                       6.025   Cond. No.                     1.48e+06\n",
            "==============================================================================\n",
            "\n",
            "Notes:\n",
            "[1] Standard Errors assume that the covariance matrix of the errors is correctly specified.\n",
            "[2] The condition number is large, 1.48e+06. This might indicate that there are\n",
            "strong multicollinearity or other numerical problems.\n",
            "====================================================\n",
            "====================================================\n",
            "01235                             OLS Regression Results                            \n",
            "==============================================================================\n",
            "Dep. Variable:                      y   R-squared:                       0.950\n",
            "Model:                            OLS   Adj. R-squared:                  0.944\n",
            "Method:                 Least Squares   F-statistic:                     166.7\n",
            "Date:                Wed, 12 Oct 2022   Prob (F-statistic):           2.87e-22\n",
            "Time:                        09:00:59   Log-Likelihood:                -421.12\n",
            "No. Observations:                  40   AIC:                             852.2\n",
            "Df Residuals:                      35   BIC:                             860.7\n",
            "Df Model:                           4                                         \n",
            "Covariance Type:            nonrobust                                         \n",
            "==============================================================================\n",
            "                 coef    std err          t      P>|t|      [0.025      0.975]\n",
            "------------------------------------------------------------------------------\n",
            "const       4.292e+04   8020.397      5.352      0.000    2.66e+04    5.92e+04\n",
            "x1             0.7754      0.053     14.498      0.000       0.667       0.884\n",
            "x2             0.0319      0.065      0.488      0.629      -0.101       0.165\n",
            "x3             0.0363      0.019      1.902      0.065      -0.002       0.075\n",
            "x4         -1272.1608   3639.780     -0.350      0.729   -8661.308    6116.986\n",
            "==============================================================================\n",
            "Omnibus:                       16.074   Durbin-Watson:                   2.467\n",
            "Prob(Omnibus):                  0.000   Jarque-Bera (JB):               24.553\n",
            "Skew:                          -1.086   Prob(JB):                     4.66e-06\n",
            "Kurtosis:                       6.164   Cond. No.                     1.43e+06\n",
            "==============================================================================\n",
            "\n",
            "Notes:\n",
            "[1] Standard Errors assume that the covariance matrix of the errors is correctly specified.\n",
            "[2] The condition number is large, 1.43e+06. This might indicate that there are\n",
            "strong multicollinearity or other numerical problems.\n",
            "====================================================\n",
            "====================================================\n",
            "0123                             OLS Regression Results                            \n",
            "==============================================================================\n",
            "Dep. Variable:                      y   R-squared:                       0.950\n",
            "Model:                            OLS   Adj. R-squared:                  0.946\n",
            "Method:                 Least Squares   F-statistic:                     227.8\n",
            "Date:                Wed, 12 Oct 2022   Prob (F-statistic):           1.85e-23\n",
            "Time:                        09:00:59   Log-Likelihood:                -421.19\n",
            "No. Observations:                  40   AIC:                             850.4\n",
            "Df Residuals:                      36   BIC:                             857.1\n",
            "Df Model:                           3                                         \n",
            "Covariance Type:            nonrobust                                         \n",
            "==============================================================================\n",
            "                 coef    std err          t      P>|t|      [0.025      0.975]\n",
            "------------------------------------------------------------------------------\n",
            "const       4.299e+04   7919.773      5.428      0.000    2.69e+04    5.91e+04\n",
            "x1             0.7788      0.052     15.003      0.000       0.674       0.884\n",
            "x2             0.0294      0.064      0.458      0.650      -0.101       0.160\n",
            "x3             0.0347      0.018      1.896      0.066      -0.002       0.072\n",
            "==============================================================================\n",
            "Omnibus:                       15.557   Durbin-Watson:                   2.481\n",
            "Prob(Omnibus):                  0.000   Jarque-Bera (JB):               22.539\n",
            "Skew:                          -1.081   Prob(JB):                     1.28e-05\n",
            "Kurtosis:                       5.974   Cond. No.                     1.43e+06\n",
            "==============================================================================\n",
            "\n",
            "Notes:\n",
            "[1] Standard Errors assume that the covariance matrix of the errors is correctly specified.\n",
            "[2] The condition number is large, 1.43e+06. This might indicate that there are\n",
            "strong multicollinearity or other numerical problems.\n",
            "====================================================\n",
            "====================================================\n",
            "013                             OLS Regression Results                            \n",
            "==============================================================================\n",
            "Dep. Variable:                      y   R-squared:                       0.950\n",
            "Model:                            OLS   Adj. R-squared:                  0.947\n",
            "Method:                 Least Squares   F-statistic:                     349.0\n",
            "Date:                Wed, 12 Oct 2022   Prob (F-statistic):           9.65e-25\n",
            "Time:                        09:00:59   Log-Likelihood:                -421.30\n",
            "No. Observations:                  40   AIC:                             848.6\n",
            "Df Residuals:                      37   BIC:                             853.7\n",
            "Df Model:                           2                                         \n",
            "Covariance Type:            nonrobust                                         \n",
            "==============================================================================\n",
            "                 coef    std err          t      P>|t|      [0.025      0.975]\n",
            "------------------------------------------------------------------------------\n",
            "const       4.635e+04   2971.236     15.598      0.000    4.03e+04    5.24e+04\n",
            "x1             0.7886      0.047     16.846      0.000       0.694       0.883\n",
            "x2             0.0326      0.018      1.860      0.071      -0.003       0.068\n",
            "==============================================================================\n",
            "Omnibus:                       14.666   Durbin-Watson:                   2.518\n",
            "Prob(Omnibus):                  0.001   Jarque-Bera (JB):               20.582\n",
            "Skew:                          -1.030   Prob(JB):                     3.39e-05\n",
            "Kurtosis:                       5.847   Cond. No.                     4.97e+05\n",
            "==============================================================================\n",
            "\n",
            "Notes:\n",
            "[1] Standard Errors assume that the covariance matrix of the errors is correctly specified.\n",
            "[2] The condition number is large, 4.97e+05. This might indicate that there are\n",
            "strong multicollinearity or other numerical problems.\n",
            "====================================================\n",
            "====================================================\n",
            "01                             OLS Regression Results                            \n",
            "==============================================================================\n",
            "Dep. Variable:                      y   R-squared:                       0.945\n",
            "Model:                            OLS   Adj. R-squared:                  0.944\n",
            "Method:                 Least Squares   F-statistic:                     652.4\n",
            "Date:                Wed, 12 Oct 2022   Prob (F-statistic):           1.56e-25\n",
            "Time:                        09:00:59   Log-Likelihood:                -423.09\n",
            "No. Observations:                  40   AIC:                             850.2\n",
            "Df Residuals:                      38   BIC:                             853.6\n",
            "Df Model:                           1                                         \n",
            "Covariance Type:            nonrobust                                         \n",
            "==============================================================================\n",
            "                 coef    std err          t      P>|t|      [0.025      0.975]\n",
            "------------------------------------------------------------------------------\n",
            "const       4.842e+04   2842.717     17.032      0.000    4.27e+04    5.42e+04\n",
            "x1             0.8516      0.033     25.542      0.000       0.784       0.919\n",
            "==============================================================================\n",
            "Omnibus:                       13.132   Durbin-Watson:                   2.325\n",
            "Prob(Omnibus):                  0.001   Jarque-Bera (JB):               16.254\n",
            "Skew:                          -0.991   Prob(JB):                     0.000295\n",
            "Kurtosis:                       5.413   Cond. No.                     1.57e+05\n",
            "==============================================================================\n",
            "\n",
            "Notes:\n",
            "[1] Standard Errors assume that the covariance matrix of the errors is correctly specified.\n",
            "[2] The condition number is large, 1.57e+05. This might indicate that there are\n",
            "strong multicollinearity or other numerical problems.\n",
            "====================================================\n"
          ]
        }
      ]
    },
    {
      "cell_type": "markdown",
      "metadata": {
        "id": "Y4EWHwjBjlA_"
      },
      "source": [
        "# Step 5: Deploy Model to predict new value"
      ]
    },
    {
      "cell_type": "code",
      "metadata": {
        "id": "LPmANWuLlJkl"
      },
      "source": [
        "data.to_csv(\"result.csv\", index=False, mode='w')"
      ],
      "execution_count": 24,
      "outputs": []
    },
    {
      "cell_type": "markdown",
      "source": [
        "# Cross-Validted"
      ],
      "metadata": {
        "id": "e6iZXAqR-5oW"
      }
    },
    {
      "cell_type": "code",
      "source": [
        "from sklearn.model_selection import cross_val_score\n",
        "model_cv = cross_val_score(LR(), X_train, Y_train, cv=5)\n",
        "print(model_cv)\n",
        "print(model_cv.mean(), model_cv.std())"
      ],
      "metadata": {
        "id": "payLUEQL_Bbt",
        "outputId": "688481a7-6b40-49bf-93a0-467dac5a038a",
        "colab": {
          "base_uri": "https://localhost:8080/"
        }
      },
      "execution_count": 25,
      "outputs": [
        {
          "output_type": "stream",
          "name": "stdout",
          "text": [
            "[0.64120447 0.88536669 0.90980771 0.8961349  0.97415038]\n",
            "0.8613328292604049 0.11430041180785552\n"
          ]
        }
      ]
    },
    {
      "cell_type": "markdown",
      "source": [
        "# K-fold"
      ],
      "metadata": {
        "id": "hKvoPx7TTG5L"
      }
    },
    {
      "cell_type": "code",
      "source": [
        "from sklearn.model_selection import KFold\n",
        "from sklearn.linear_model import Lasso\n",
        "kf = KFold(n_splits=2)\n",
        "for train, test in kf.split(X):\n",
        "    X_train, X_test, Y_train, Y_test = X[train], X[test], Y[train], Y[test]\n",
        "    reg = Lasso(alpha=0.1) # 其中可以調整 alpha 值決定正則化的強度\n",
        "    reg.fit(X_train, Y_train)\n",
        "    print(reg.coef_)"
      ],
      "metadata": {
        "id": "ZM0z4CNrPF9P",
        "outputId": "078cbfb9-3089-4b1a-b5b5-e7a6fdc923b8",
        "colab": {
          "base_uri": "https://localhost:8080/"
        }
      },
      "execution_count": 26,
      "outputs": [
        {
          "output_type": "stream",
          "name": "stdout",
          "text": [
            "[ 3.33223179e-01  1.22371766e-01  2.82795551e-02 -1.19597952e+04\n",
            "  1.96620349e+03]\n",
            "[ 7.76156199e-01 -8.44929316e-02  4.49765846e-02  6.40492338e+03\n",
            "  1.72039927e+03]\n"
          ]
        }
      ]
    },
    {
      "cell_type": "markdown",
      "source": [
        "# Lasso Fit"
      ],
      "metadata": {
        "id": "RxHzCWnG1iKU"
      }
    },
    {
      "cell_type": "code",
      "source": [
        "from sklearn.linear_model import Lasso\n",
        "reg = Lasso(alpha=0.1) # 其中可以調整 alpha 值決定正則化的強度\n",
        "reg.fit(X_train, Y_train)\n",
        "print(reg.coef_)"
      ],
      "metadata": {
        "id": "B_qNXjR21hKc",
        "outputId": "0f5e8006-64e5-46cb-8f03-fc6712d70367",
        "colab": {
          "base_uri": "https://localhost:8080/"
        }
      },
      "execution_count": 27,
      "outputs": [
        {
          "output_type": "stream",
          "name": "stdout",
          "text": [
            "[ 7.76156199e-01 -8.44929316e-02  4.49765846e-02  6.40492338e+03\n",
            "  1.72039927e+03]\n"
          ]
        }
      ]
    },
    {
      "cell_type": "markdown",
      "source": [
        "#Optuna"
      ],
      "metadata": {
        "id": "QQXHEoYpFkN2"
      }
    },
    {
      "cell_type": "code",
      "source": [
        "!pip install optuna"
      ],
      "metadata": {
        "id": "EbSsmsqiaiTU",
        "outputId": "027b0060-0049-4e67-a408-29fbd5d57a35",
        "colab": {
          "base_uri": "https://localhost:8080/"
        }
      },
      "execution_count": 28,
      "outputs": [
        {
          "output_type": "stream",
          "name": "stdout",
          "text": [
            "Looking in indexes: https://pypi.org/simple, https://us-python.pkg.dev/colab-wheels/public/simple/\n",
            "Requirement already satisfied: optuna in /usr/local/lib/python3.7/dist-packages (3.0.3)\n",
            "Requirement already satisfied: tqdm in /usr/local/lib/python3.7/dist-packages (from optuna) (4.64.1)\n",
            "Requirement already satisfied: colorlog in /usr/local/lib/python3.7/dist-packages (from optuna) (6.7.0)\n",
            "Requirement already satisfied: scipy<1.9.0,>=1.7.0 in /usr/local/lib/python3.7/dist-packages (from optuna) (1.7.3)\n",
            "Requirement already satisfied: sqlalchemy>=1.3.0 in /usr/local/lib/python3.7/dist-packages (from optuna) (1.4.41)\n",
            "Requirement already satisfied: importlib-metadata<5.0.0 in /usr/local/lib/python3.7/dist-packages (from optuna) (4.13.0)\n",
            "Requirement already satisfied: PyYAML in /usr/local/lib/python3.7/dist-packages (from optuna) (6.0)\n",
            "Requirement already satisfied: packaging>=20.0 in /usr/local/lib/python3.7/dist-packages (from optuna) (21.3)\n",
            "Requirement already satisfied: numpy in /usr/local/lib/python3.7/dist-packages (from optuna) (1.21.6)\n",
            "Requirement already satisfied: cliff in /usr/local/lib/python3.7/dist-packages (from optuna) (3.10.1)\n",
            "Requirement already satisfied: cmaes>=0.8.2 in /usr/local/lib/python3.7/dist-packages (from optuna) (0.8.2)\n",
            "Requirement already satisfied: alembic>=1.5.0 in /usr/local/lib/python3.7/dist-packages (from optuna) (1.8.1)\n",
            "Requirement already satisfied: Mako in /usr/local/lib/python3.7/dist-packages (from alembic>=1.5.0->optuna) (1.2.3)\n",
            "Requirement already satisfied: importlib-resources in /usr/local/lib/python3.7/dist-packages (from alembic>=1.5.0->optuna) (5.9.0)\n",
            "Requirement already satisfied: zipp>=0.5 in /usr/local/lib/python3.7/dist-packages (from importlib-metadata<5.0.0->optuna) (3.8.1)\n",
            "Requirement already satisfied: typing-extensions>=3.6.4 in /usr/local/lib/python3.7/dist-packages (from importlib-metadata<5.0.0->optuna) (4.1.1)\n",
            "Requirement already satisfied: pyparsing!=3.0.5,>=2.0.2 in /usr/local/lib/python3.7/dist-packages (from packaging>=20.0->optuna) (3.0.9)\n",
            "Requirement already satisfied: greenlet!=0.4.17 in /usr/local/lib/python3.7/dist-packages (from sqlalchemy>=1.3.0->optuna) (1.1.3)\n",
            "Requirement already satisfied: stevedore>=2.0.1 in /usr/local/lib/python3.7/dist-packages (from cliff->optuna) (3.5.0)\n",
            "Requirement already satisfied: PrettyTable>=0.7.2 in /usr/local/lib/python3.7/dist-packages (from cliff->optuna) (3.4.1)\n",
            "Requirement already satisfied: autopage>=0.4.0 in /usr/local/lib/python3.7/dist-packages (from cliff->optuna) (0.5.1)\n",
            "Requirement already satisfied: pbr!=2.1.0,>=2.0.0 in /usr/local/lib/python3.7/dist-packages (from cliff->optuna) (5.10.0)\n",
            "Requirement already satisfied: cmd2>=1.0.0 in /usr/local/lib/python3.7/dist-packages (from cliff->optuna) (2.4.2)\n",
            "Requirement already satisfied: wcwidth>=0.1.7 in /usr/local/lib/python3.7/dist-packages (from cmd2>=1.0.0->cliff->optuna) (0.2.5)\n",
            "Requirement already satisfied: pyperclip>=1.6 in /usr/local/lib/python3.7/dist-packages (from cmd2>=1.0.0->cliff->optuna) (1.8.2)\n",
            "Requirement already satisfied: attrs>=16.3.0 in /usr/local/lib/python3.7/dist-packages (from cmd2>=1.0.0->cliff->optuna) (22.1.0)\n",
            "Requirement already satisfied: MarkupSafe>=0.9.2 in /usr/local/lib/python3.7/dist-packages (from Mako->alembic>=1.5.0->optuna) (2.0.1)\n"
          ]
        }
      ]
    },
    {
      "cell_type": "code",
      "source": [
        "import sklearn.datasets\n",
        "import sklearn.ensemble\n",
        "import sklearn.model_selection\n",
        "import sklearn.svm\n",
        "import optuna\n",
        "\n",
        "def objective(trial):\n",
        "\n",
        "    # Invoke suggest methods of a Trial object to generate hyperparameters.\n",
        "    regressor_name = trial.suggest_categorical('classifier', ['SVR', 'RandomForest'])\n",
        "    if regressor_name == 'SVR':\n",
        "        svr_c = trial.suggest_float('svr_c', 1e-10, 1e10, log=True)\n",
        "        regressor_obj = sklearn.svm.SVR(C=svr_c)\n",
        "    else:\n",
        "        rf_max_depth = trial.suggest_int('rf_max_depth', 2, 32)\n",
        "        regressor_obj = sklearn.ensemble.RandomForestRegressor(max_depth=rf_max_depth)\n",
        "\n",
        "   \n",
        "    regressor_obj.fit(X_train, Y_train)\n",
        "    y_pred = regressor_obj.predict(X_test)\n",
        "\n",
        "    error = sklearn.metrics.mean_squared_error(Y_test, y_pred)\n",
        "\n",
        "    return error  # An objective value linked with the Trial object.\n",
        "\n",
        "study = optuna.create_study()  # Create a new study.\n",
        "study.optimize(objective, n_trials=100)  # Invoke optimization of the objective function.\n",
        "study.best_params"
      ],
      "metadata": {
        "id": "LWd9FYpMF9HA",
        "outputId": "3314ccba-7c7a-41f2-c33c-f9ea5ddc7318",
        "colab": {
          "base_uri": "https://localhost:8080/"
        }
      },
      "execution_count": 32,
      "outputs": [
        {
          "output_type": "stream",
          "name": "stderr",
          "text": [
            "\u001b[32m[I 2022-10-12 09:11:50,118]\u001b[0m A new study created in memory with name: no-name-142a0570-2978-40be-b490-9ddc8c7e4d32\u001b[0m\n",
            "/usr/local/lib/python3.7/dist-packages/sklearn/utils/validation.py:993: DataConversionWarning: A column-vector y was passed when a 1d array was expected. Please change the shape of y to (n_samples, ), for example using ravel().\n",
            "  y = column_or_1d(y, warn=True)\n",
            "\u001b[32m[I 2022-10-12 09:11:50,125]\u001b[0m Trial 0 finished with value: 4265278304.6522517 and parameters: {'classifier': 'SVR', 'svr_c': 7.939250917001582e-09}. Best is trial 0 with value: 4265278304.6522517.\u001b[0m\n",
            "/usr/local/lib/python3.7/dist-packages/ipykernel_launcher.py:19: DataConversionWarning: A column-vector y was passed when a 1d array was expected. Please change the shape of y to (n_samples,), for example using ravel().\n",
            "\u001b[32m[I 2022-10-12 09:11:50,246]\u001b[0m Trial 1 finished with value: 1962239475.6946976 and parameters: {'classifier': 'RandomForest', 'rf_max_depth': 29}. Best is trial 1 with value: 1962239475.6946976.\u001b[0m\n",
            "/usr/local/lib/python3.7/dist-packages/sklearn/utils/validation.py:993: DataConversionWarning: A column-vector y was passed when a 1d array was expected. Please change the shape of y to (n_samples, ), for example using ravel().\n",
            "  y = column_or_1d(y, warn=True)\n",
            "\u001b[32m[I 2022-10-12 09:11:50,251]\u001b[0m Trial 2 finished with value: 4265278063.645988 and parameters: {'classifier': 'SVR', 'svr_c': 0.0057588030022821665}. Best is trial 1 with value: 1962239475.6946976.\u001b[0m\n",
            "/usr/local/lib/python3.7/dist-packages/ipykernel_launcher.py:19: DataConversionWarning: A column-vector y was passed when a 1d array was expected. Please change the shape of y to (n_samples,), for example using ravel().\n",
            "\u001b[32m[I 2022-10-12 09:11:50,379]\u001b[0m Trial 3 finished with value: 2054800018.4369292 and parameters: {'classifier': 'RandomForest', 'rf_max_depth': 5}. Best is trial 1 with value: 1962239475.6946976.\u001b[0m\n",
            "/usr/local/lib/python3.7/dist-packages/sklearn/utils/validation.py:993: DataConversionWarning: A column-vector y was passed when a 1d array was expected. Please change the shape of y to (n_samples, ), for example using ravel().\n",
            "  y = column_or_1d(y, warn=True)\n",
            "\u001b[32m[I 2022-10-12 09:11:50,386]\u001b[0m Trial 4 finished with value: 4253433225.5787945 and parameters: {'classifier': 'SVR', 'svr_c': 283.92084128309153}. Best is trial 1 with value: 1962239475.6946976.\u001b[0m\n",
            "/usr/local/lib/python3.7/dist-packages/ipykernel_launcher.py:19: DataConversionWarning: A column-vector y was passed when a 1d array was expected. Please change the shape of y to (n_samples,), for example using ravel().\n",
            "\u001b[32m[I 2022-10-12 09:11:50,504]\u001b[0m Trial 5 finished with value: 2053217981.1455708 and parameters: {'classifier': 'RandomForest', 'rf_max_depth': 26}. Best is trial 1 with value: 1962239475.6946976.\u001b[0m\n",
            "/usr/local/lib/python3.7/dist-packages/sklearn/utils/validation.py:993: DataConversionWarning: A column-vector y was passed when a 1d array was expected. Please change the shape of y to (n_samples, ), for example using ravel().\n",
            "  y = column_or_1d(y, warn=True)\n",
            "\u001b[32m[I 2022-10-12 09:11:50,583]\u001b[0m Trial 6 finished with value: 7310273341.351366 and parameters: {'classifier': 'SVR', 'svr_c': 81955200.68816017}. Best is trial 1 with value: 1962239475.6946976.\u001b[0m\n",
            "/usr/local/lib/python3.7/dist-packages/sklearn/utils/validation.py:993: DataConversionWarning: A column-vector y was passed when a 1d array was expected. Please change the shape of y to (n_samples, ), for example using ravel().\n",
            "  y = column_or_1d(y, warn=True)\n",
            "\u001b[32m[I 2022-10-12 09:11:50,593]\u001b[0m Trial 7 finished with value: 4265278303.4761753 and parameters: {'classifier': 'SVR', 'svr_c': 2.8110202942281697e-05}. Best is trial 1 with value: 1962239475.6946976.\u001b[0m\n",
            "/usr/local/lib/python3.7/dist-packages/sklearn/utils/validation.py:993: DataConversionWarning: A column-vector y was passed when a 1d array was expected. Please change the shape of y to (n_samples, ), for example using ravel().\n",
            "  y = column_or_1d(y, warn=True)\n",
            "\u001b[32m[I 2022-10-12 09:11:50,598]\u001b[0m Trial 8 finished with value: 4265278304.580466 and parameters: {'classifier': 'SVR', 'svr_c': 1.723340918641872e-06}. Best is trial 1 with value: 1962239475.6946976.\u001b[0m\n",
            "/usr/local/lib/python3.7/dist-packages/sklearn/utils/validation.py:993: DataConversionWarning: A column-vector y was passed when a 1d array was expected. Please change the shape of y to (n_samples, ), for example using ravel().\n",
            "  y = column_or_1d(y, warn=True)\n",
            "\u001b[32m[I 2022-10-12 09:11:50,603]\u001b[0m Trial 9 finished with value: 4265278304.651583 and parameters: {'classifier': 'SVR', 'svr_c': 2.4118241581262684e-08}. Best is trial 1 with value: 1962239475.6946976.\u001b[0m\n",
            "/usr/local/lib/python3.7/dist-packages/ipykernel_launcher.py:19: DataConversionWarning: A column-vector y was passed when a 1d array was expected. Please change the shape of y to (n_samples,), for example using ravel().\n",
            "\u001b[32m[I 2022-10-12 09:11:50,732]\u001b[0m Trial 10 finished with value: 1917012071.1847925 and parameters: {'classifier': 'RandomForest', 'rf_max_depth': 32}. Best is trial 10 with value: 1917012071.1847925.\u001b[0m\n",
            "/usr/local/lib/python3.7/dist-packages/ipykernel_launcher.py:19: DataConversionWarning: A column-vector y was passed when a 1d array was expected. Please change the shape of y to (n_samples,), for example using ravel().\n",
            "\u001b[32m[I 2022-10-12 09:11:50,858]\u001b[0m Trial 11 finished with value: 2031447444.6648376 and parameters: {'classifier': 'RandomForest', 'rf_max_depth': 31}. Best is trial 10 with value: 1917012071.1847925.\u001b[0m\n",
            "/usr/local/lib/python3.7/dist-packages/ipykernel_launcher.py:19: DataConversionWarning: A column-vector y was passed when a 1d array was expected. Please change the shape of y to (n_samples,), for example using ravel().\n",
            "\u001b[32m[I 2022-10-12 09:11:50,988]\u001b[0m Trial 12 finished with value: 1932729115.6078162 and parameters: {'classifier': 'RandomForest', 'rf_max_depth': 32}. Best is trial 10 with value: 1917012071.1847925.\u001b[0m\n",
            "/usr/local/lib/python3.7/dist-packages/ipykernel_launcher.py:19: DataConversionWarning: A column-vector y was passed when a 1d array was expected. Please change the shape of y to (n_samples,), for example using ravel().\n",
            "\u001b[32m[I 2022-10-12 09:11:51,112]\u001b[0m Trial 13 finished with value: 1872831899.5269797 and parameters: {'classifier': 'RandomForest', 'rf_max_depth': 19}. Best is trial 13 with value: 1872831899.5269797.\u001b[0m\n",
            "/usr/local/lib/python3.7/dist-packages/ipykernel_launcher.py:19: DataConversionWarning: A column-vector y was passed when a 1d array was expected. Please change the shape of y to (n_samples,), for example using ravel().\n",
            "\u001b[32m[I 2022-10-12 09:11:51,270]\u001b[0m Trial 14 finished with value: 2051448353.244532 and parameters: {'classifier': 'RandomForest', 'rf_max_depth': 17}. Best is trial 13 with value: 1872831899.5269797.\u001b[0m\n",
            "/usr/local/lib/python3.7/dist-packages/ipykernel_launcher.py:19: DataConversionWarning: A column-vector y was passed when a 1d array was expected. Please change the shape of y to (n_samples,), for example using ravel().\n",
            "\u001b[32m[I 2022-10-12 09:11:51,408]\u001b[0m Trial 15 finished with value: 1942834391.5498095 and parameters: {'classifier': 'RandomForest', 'rf_max_depth': 18}. Best is trial 13 with value: 1872831899.5269797.\u001b[0m\n",
            "/usr/local/lib/python3.7/dist-packages/ipykernel_launcher.py:19: DataConversionWarning: A column-vector y was passed when a 1d array was expected. Please change the shape of y to (n_samples,), for example using ravel().\n",
            "\u001b[32m[I 2022-10-12 09:11:51,539]\u001b[0m Trial 16 finished with value: 2002401140.9171429 and parameters: {'classifier': 'RandomForest', 'rf_max_depth': 20}. Best is trial 13 with value: 1872831899.5269797.\u001b[0m\n",
            "/usr/local/lib/python3.7/dist-packages/ipykernel_launcher.py:19: DataConversionWarning: A column-vector y was passed when a 1d array was expected. Please change the shape of y to (n_samples,), for example using ravel().\n",
            "\u001b[32m[I 2022-10-12 09:11:51,676]\u001b[0m Trial 17 finished with value: 1887889668.1478214 and parameters: {'classifier': 'RandomForest', 'rf_max_depth': 10}. Best is trial 13 with value: 1872831899.5269797.\u001b[0m\n",
            "/usr/local/lib/python3.7/dist-packages/ipykernel_launcher.py:19: DataConversionWarning: A column-vector y was passed when a 1d array was expected. Please change the shape of y to (n_samples,), for example using ravel().\n",
            "\u001b[32m[I 2022-10-12 09:11:51,809]\u001b[0m Trial 18 finished with value: 1983938712.9041092 and parameters: {'classifier': 'RandomForest', 'rf_max_depth': 10}. Best is trial 13 with value: 1872831899.5269797.\u001b[0m\n",
            "/usr/local/lib/python3.7/dist-packages/ipykernel_launcher.py:19: DataConversionWarning: A column-vector y was passed when a 1d array was expected. Please change the shape of y to (n_samples,), for example using ravel().\n",
            "\u001b[32m[I 2022-10-12 09:11:51,940]\u001b[0m Trial 19 finished with value: 1950199770.5256925 and parameters: {'classifier': 'RandomForest', 'rf_max_depth': 12}. Best is trial 13 with value: 1872831899.5269797.\u001b[0m\n",
            "/usr/local/lib/python3.7/dist-packages/ipykernel_launcher.py:19: DataConversionWarning: A column-vector y was passed when a 1d array was expected. Please change the shape of y to (n_samples,), for example using ravel().\n",
            "\u001b[32m[I 2022-10-12 09:11:52,067]\u001b[0m Trial 20 finished with value: 1887685291.5475497 and parameters: {'classifier': 'RandomForest', 'rf_max_depth': 2}. Best is trial 13 with value: 1872831899.5269797.\u001b[0m\n",
            "/usr/local/lib/python3.7/dist-packages/ipykernel_launcher.py:19: DataConversionWarning: A column-vector y was passed when a 1d array was expected. Please change the shape of y to (n_samples,), for example using ravel().\n",
            "\u001b[32m[I 2022-10-12 09:11:52,192]\u001b[0m Trial 21 finished with value: 1919118660.303496 and parameters: {'classifier': 'RandomForest', 'rf_max_depth': 2}. Best is trial 13 with value: 1872831899.5269797.\u001b[0m\n",
            "/usr/local/lib/python3.7/dist-packages/ipykernel_launcher.py:19: DataConversionWarning: A column-vector y was passed when a 1d array was expected. Please change the shape of y to (n_samples,), for example using ravel().\n",
            "\u001b[32m[I 2022-10-12 09:11:52,324]\u001b[0m Trial 22 finished with value: 1890642545.0744305 and parameters: {'classifier': 'RandomForest', 'rf_max_depth': 9}. Best is trial 13 with value: 1872831899.5269797.\u001b[0m\n",
            "/usr/local/lib/python3.7/dist-packages/ipykernel_launcher.py:19: DataConversionWarning: A column-vector y was passed when a 1d array was expected. Please change the shape of y to (n_samples,), for example using ravel().\n",
            "\u001b[32m[I 2022-10-12 09:11:52,455]\u001b[0m Trial 23 finished with value: 2017473091.493511 and parameters: {'classifier': 'RandomForest', 'rf_max_depth': 14}. Best is trial 13 with value: 1872831899.5269797.\u001b[0m\n",
            "/usr/local/lib/python3.7/dist-packages/ipykernel_launcher.py:19: DataConversionWarning: A column-vector y was passed when a 1d array was expected. Please change the shape of y to (n_samples,), for example using ravel().\n",
            "\u001b[32m[I 2022-10-12 09:11:52,584]\u001b[0m Trial 24 finished with value: 1975170838.070635 and parameters: {'classifier': 'RandomForest', 'rf_max_depth': 6}. Best is trial 13 with value: 1872831899.5269797.\u001b[0m\n",
            "/usr/local/lib/python3.7/dist-packages/ipykernel_launcher.py:19: DataConversionWarning: A column-vector y was passed when a 1d array was expected. Please change the shape of y to (n_samples,), for example using ravel().\n",
            "\u001b[32m[I 2022-10-12 09:11:52,711]\u001b[0m Trial 25 finished with value: 2003750370.9835727 and parameters: {'classifier': 'RandomForest', 'rf_max_depth': 23}. Best is trial 13 with value: 1872831899.5269797.\u001b[0m\n",
            "/usr/local/lib/python3.7/dist-packages/ipykernel_launcher.py:19: DataConversionWarning: A column-vector y was passed when a 1d array was expected. Please change the shape of y to (n_samples,), for example using ravel().\n",
            "\u001b[32m[I 2022-10-12 09:11:52,841]\u001b[0m Trial 26 finished with value: 1938428389.64003 and parameters: {'classifier': 'RandomForest', 'rf_max_depth': 14}. Best is trial 13 with value: 1872831899.5269797.\u001b[0m\n",
            "/usr/local/lib/python3.7/dist-packages/ipykernel_launcher.py:19: DataConversionWarning: A column-vector y was passed when a 1d array was expected. Please change the shape of y to (n_samples,), for example using ravel().\n",
            "\u001b[32m[I 2022-10-12 09:11:52,978]\u001b[0m Trial 27 finished with value: 1998897246.3809202 and parameters: {'classifier': 'RandomForest', 'rf_max_depth': 2}. Best is trial 13 with value: 1872831899.5269797.\u001b[0m\n",
            "/usr/local/lib/python3.7/dist-packages/ipykernel_launcher.py:19: DataConversionWarning: A column-vector y was passed when a 1d array was expected. Please change the shape of y to (n_samples,), for example using ravel().\n",
            "\u001b[32m[I 2022-10-12 09:11:53,106]\u001b[0m Trial 28 finished with value: 1959175541.5180306 and parameters: {'classifier': 'RandomForest', 'rf_max_depth': 7}. Best is trial 13 with value: 1872831899.5269797.\u001b[0m\n",
            "/usr/local/lib/python3.7/dist-packages/ipykernel_launcher.py:19: DataConversionWarning: A column-vector y was passed when a 1d array was expected. Please change the shape of y to (n_samples,), for example using ravel().\n",
            "\u001b[32m[I 2022-10-12 09:11:53,238]\u001b[0m Trial 29 finished with value: 1905254335.5656824 and parameters: {'classifier': 'RandomForest', 'rf_max_depth': 21}. Best is trial 13 with value: 1872831899.5269797.\u001b[0m\n",
            "/usr/local/lib/python3.7/dist-packages/ipykernel_launcher.py:19: DataConversionWarning: A column-vector y was passed when a 1d array was expected. Please change the shape of y to (n_samples,), for example using ravel().\n",
            "\u001b[32m[I 2022-10-12 09:11:53,400]\u001b[0m Trial 30 finished with value: 1940639002.0527694 and parameters: {'classifier': 'RandomForest', 'rf_max_depth': 14}. Best is trial 13 with value: 1872831899.5269797.\u001b[0m\n",
            "/usr/local/lib/python3.7/dist-packages/ipykernel_launcher.py:19: DataConversionWarning: A column-vector y was passed when a 1d array was expected. Please change the shape of y to (n_samples,), for example using ravel().\n",
            "\u001b[32m[I 2022-10-12 09:11:53,524]\u001b[0m Trial 31 finished with value: 1991395211.7546415 and parameters: {'classifier': 'RandomForest', 'rf_max_depth': 10}. Best is trial 13 with value: 1872831899.5269797.\u001b[0m\n",
            "/usr/local/lib/python3.7/dist-packages/ipykernel_launcher.py:19: DataConversionWarning: A column-vector y was passed when a 1d array was expected. Please change the shape of y to (n_samples,), for example using ravel().\n",
            "\u001b[32m[I 2022-10-12 09:11:53,651]\u001b[0m Trial 32 finished with value: 1941692072.4572885 and parameters: {'classifier': 'RandomForest', 'rf_max_depth': 8}. Best is trial 13 with value: 1872831899.5269797.\u001b[0m\n",
            "/usr/local/lib/python3.7/dist-packages/ipykernel_launcher.py:19: DataConversionWarning: A column-vector y was passed when a 1d array was expected. Please change the shape of y to (n_samples,), for example using ravel().\n",
            "\u001b[32m[I 2022-10-12 09:11:53,796]\u001b[0m Trial 33 finished with value: 1951352714.4714727 and parameters: {'classifier': 'RandomForest', 'rf_max_depth': 5}. Best is trial 13 with value: 1872831899.5269797.\u001b[0m\n",
            "/usr/local/lib/python3.7/dist-packages/ipykernel_launcher.py:19: DataConversionWarning: A column-vector y was passed when a 1d array was expected. Please change the shape of y to (n_samples,), for example using ravel().\n",
            "\u001b[32m[I 2022-10-12 09:11:53,917]\u001b[0m Trial 34 finished with value: 1962429970.5146914 and parameters: {'classifier': 'RandomForest', 'rf_max_depth': 15}. Best is trial 13 with value: 1872831899.5269797.\u001b[0m\n",
            "/usr/local/lib/python3.7/dist-packages/ipykernel_launcher.py:19: DataConversionWarning: A column-vector y was passed when a 1d array was expected. Please change the shape of y to (n_samples,), for example using ravel().\n",
            "\u001b[32m[I 2022-10-12 09:11:54,065]\u001b[0m Trial 35 finished with value: 1916561689.543254 and parameters: {'classifier': 'RandomForest', 'rf_max_depth': 11}. Best is trial 13 with value: 1872831899.5269797.\u001b[0m\n",
            "/usr/local/lib/python3.7/dist-packages/sklearn/utils/validation.py:993: DataConversionWarning: A column-vector y was passed when a 1d array was expected. Please change the shape of y to (n_samples, ), for example using ravel().\n",
            "  y = column_or_1d(y, warn=True)\n",
            "\u001b[32m[I 2022-10-12 09:11:54,428]\u001b[0m Trial 36 finished with value: 11564567115.577888 and parameters: {'classifier': 'SVR', 'svr_c': 4673988499.522566}. Best is trial 13 with value: 1872831899.5269797.\u001b[0m\n",
            "/usr/local/lib/python3.7/dist-packages/ipykernel_launcher.py:19: DataConversionWarning: A column-vector y was passed when a 1d array was expected. Please change the shape of y to (n_samples,), for example using ravel().\n",
            "\u001b[32m[I 2022-10-12 09:11:54,551]\u001b[0m Trial 37 finished with value: 1995170987.830177 and parameters: {'classifier': 'RandomForest', 'rf_max_depth': 3}. Best is trial 13 with value: 1872831899.5269797.\u001b[0m\n",
            "/usr/local/lib/python3.7/dist-packages/sklearn/utils/validation.py:993: DataConversionWarning: A column-vector y was passed when a 1d array was expected. Please change the shape of y to (n_samples, ), for example using ravel().\n",
            "  y = column_or_1d(y, warn=True)\n",
            "\u001b[32m[I 2022-10-12 09:11:54,562]\u001b[0m Trial 38 finished with value: 4221681598.9197984 and parameters: {'classifier': 'SVR', 'svr_c': 1053.9308570570552}. Best is trial 13 with value: 1872831899.5269797.\u001b[0m\n",
            "/usr/local/lib/python3.7/dist-packages/ipykernel_launcher.py:19: DataConversionWarning: A column-vector y was passed when a 1d array was expected. Please change the shape of y to (n_samples,), for example using ravel().\n",
            "\u001b[32m[I 2022-10-12 09:11:54,694]\u001b[0m Trial 39 finished with value: 2044446460.4545531 and parameters: {'classifier': 'RandomForest', 'rf_max_depth': 9}. Best is trial 13 with value: 1872831899.5269797.\u001b[0m\n",
            "/usr/local/lib/python3.7/dist-packages/sklearn/utils/validation.py:993: DataConversionWarning: A column-vector y was passed when a 1d array was expected. Please change the shape of y to (n_samples, ), for example using ravel().\n",
            "  y = column_or_1d(y, warn=True)\n",
            "\u001b[32m[I 2022-10-12 09:11:54,707]\u001b[0m Trial 40 finished with value: 1171369772.5988932 and parameters: {'classifier': 'SVR', 'svr_c': 604127.4814701234}. Best is trial 40 with value: 1171369772.5988932.\u001b[0m\n",
            "/usr/local/lib/python3.7/dist-packages/sklearn/utils/validation.py:993: DataConversionWarning: A column-vector y was passed when a 1d array was expected. Please change the shape of y to (n_samples, ), for example using ravel().\n",
            "  y = column_or_1d(y, warn=True)\n",
            "\u001b[32m[I 2022-10-12 09:11:54,720]\u001b[0m Trial 41 finished with value: 1473278207.6766052 and parameters: {'classifier': 'SVR', 'svr_c': 377206.0097769814}. Best is trial 40 with value: 1171369772.5988932.\u001b[0m\n",
            "/usr/local/lib/python3.7/dist-packages/sklearn/utils/validation.py:993: DataConversionWarning: A column-vector y was passed when a 1d array was expected. Please change the shape of y to (n_samples, ), for example using ravel().\n",
            "  y = column_or_1d(y, warn=True)\n",
            "\u001b[32m[I 2022-10-12 09:11:54,733]\u001b[0m Trial 42 finished with value: 1497906942.0726995 and parameters: {'classifier': 'SVR', 'svr_c': 352135.6318181827}. Best is trial 40 with value: 1171369772.5988932.\u001b[0m\n",
            "/usr/local/lib/python3.7/dist-packages/sklearn/utils/validation.py:993: DataConversionWarning: A column-vector y was passed when a 1d array was expected. Please change the shape of y to (n_samples, ), for example using ravel().\n",
            "  y = column_or_1d(y, warn=True)\n",
            "\u001b[32m[I 2022-10-12 09:11:54,746]\u001b[0m Trial 43 finished with value: 1226373461.1420994 and parameters: {'classifier': 'SVR', 'svr_c': 562230.6443900096}. Best is trial 40 with value: 1171369772.5988932.\u001b[0m\n",
            "/usr/local/lib/python3.7/dist-packages/sklearn/utils/validation.py:993: DataConversionWarning: A column-vector y was passed when a 1d array was expected. Please change the shape of y to (n_samples, ), for example using ravel().\n",
            "  y = column_or_1d(y, warn=True)\n",
            "\u001b[32m[I 2022-10-12 09:11:54,759]\u001b[0m Trial 44 finished with value: 1334342775.783573 and parameters: {'classifier': 'SVR', 'svr_c': 482423.7507452003}. Best is trial 40 with value: 1171369772.5988932.\u001b[0m\n",
            "/usr/local/lib/python3.7/dist-packages/sklearn/utils/validation.py:993: DataConversionWarning: A column-vector y was passed when a 1d array was expected. Please change the shape of y to (n_samples, ), for example using ravel().\n",
            "  y = column_or_1d(y, warn=True)\n",
            "\u001b[32m[I 2022-10-12 09:11:54,773]\u001b[0m Trial 45 finished with value: 1460529364.9428523 and parameters: {'classifier': 'SVR', 'svr_c': 390399.17117353634}. Best is trial 40 with value: 1171369772.5988932.\u001b[0m\n",
            "/usr/local/lib/python3.7/dist-packages/sklearn/utils/validation.py:993: DataConversionWarning: A column-vector y was passed when a 1d array was expected. Please change the shape of y to (n_samples, ), for example using ravel().\n",
            "  y = column_or_1d(y, warn=True)\n",
            "\u001b[32m[I 2022-10-12 09:11:54,785]\u001b[0m Trial 46 finished with value: 1567041141.981402 and parameters: {'classifier': 'SVR', 'svr_c': 262954.00283760554}. Best is trial 40 with value: 1171369772.5988932.\u001b[0m\n",
            "/usr/local/lib/python3.7/dist-packages/sklearn/utils/validation.py:993: DataConversionWarning: A column-vector y was passed when a 1d array was expected. Please change the shape of y to (n_samples, ), for example using ravel().\n",
            "  y = column_or_1d(y, warn=True)\n",
            "\u001b[32m[I 2022-10-12 09:11:54,803]\u001b[0m Trial 47 finished with value: 1319276904.7316463 and parameters: {'classifier': 'SVR', 'svr_c': 492663.5290533671}. Best is trial 40 with value: 1171369772.5988932.\u001b[0m\n",
            "/usr/local/lib/python3.7/dist-packages/sklearn/utils/validation.py:993: DataConversionWarning: A column-vector y was passed when a 1d array was expected. Please change the shape of y to (n_samples, ), for example using ravel().\n",
            "  y = column_or_1d(y, warn=True)\n",
            "\u001b[32m[I 2022-10-12 09:11:54,817]\u001b[0m Trial 48 finished with value: 4160635543.1361833 and parameters: {'classifier': 'SVR', 'svr_c': 2573.1170779880626}. Best is trial 40 with value: 1171369772.5988932.\u001b[0m\n",
            "/usr/local/lib/python3.7/dist-packages/sklearn/utils/validation.py:993: DataConversionWarning: A column-vector y was passed when a 1d array was expected. Please change the shape of y to (n_samples, ), for example using ravel().\n",
            "  y = column_or_1d(y, warn=True)\n",
            "\u001b[32m[I 2022-10-12 09:11:54,835]\u001b[0m Trial 49 finished with value: 3843472565.8371525 and parameters: {'classifier': 'SVR', 'svr_c': 9453082.826731568}. Best is trial 40 with value: 1171369772.5988932.\u001b[0m\n",
            "/usr/local/lib/python3.7/dist-packages/sklearn/utils/validation.py:993: DataConversionWarning: A column-vector y was passed when a 1d array was expected. Please change the shape of y to (n_samples, ), for example using ravel().\n",
            "  y = column_or_1d(y, warn=True)\n",
            "\u001b[32m[I 2022-10-12 09:11:54,943]\u001b[0m Trial 50 finished with value: 7306289594.89971 and parameters: {'classifier': 'SVR', 'svr_c': 118659626.05463943}. Best is trial 40 with value: 1171369772.5988932.\u001b[0m\n",
            "/usr/local/lib/python3.7/dist-packages/sklearn/utils/validation.py:993: DataConversionWarning: A column-vector y was passed when a 1d array was expected. Please change the shape of y to (n_samples, ), for example using ravel().\n",
            "  y = column_or_1d(y, warn=True)\n",
            "\u001b[32m[I 2022-10-12 09:11:54,956]\u001b[0m Trial 51 finished with value: 1632467809.7313948 and parameters: {'classifier': 'SVR', 'svr_c': 249795.8722415841}. Best is trial 40 with value: 1171369772.5988932.\u001b[0m\n",
            "/usr/local/lib/python3.7/dist-packages/sklearn/utils/validation.py:993: DataConversionWarning: A column-vector y was passed when a 1d array was expected. Please change the shape of y to (n_samples, ), for example using ravel().\n",
            "  y = column_or_1d(y, warn=True)\n",
            "\u001b[32m[I 2022-10-12 09:11:54,970]\u001b[0m Trial 52 finished with value: 2732262493.5264106 and parameters: {'classifier': 'SVR', 'svr_c': 30446.0317802226}. Best is trial 40 with value: 1171369772.5988932.\u001b[0m\n",
            "/usr/local/lib/python3.7/dist-packages/sklearn/utils/validation.py:993: DataConversionWarning: A column-vector y was passed when a 1d array was expected. Please change the shape of y to (n_samples, ), for example using ravel().\n",
            "  y = column_or_1d(y, warn=True)\n",
            "\u001b[32m[I 2022-10-12 09:11:54,983]\u001b[0m Trial 53 finished with value: 4265180376.205399 and parameters: {'classifier': 'SVR', 'svr_c': 2.340040041240712}. Best is trial 40 with value: 1171369772.5988932.\u001b[0m\n",
            "/usr/local/lib/python3.7/dist-packages/sklearn/utils/validation.py:993: DataConversionWarning: A column-vector y was passed when a 1d array was expected. Please change the shape of y to (n_samples, ), for example using ravel().\n",
            "  y = column_or_1d(y, warn=True)\n",
            "\u001b[32m[I 2022-10-12 09:11:54,999]\u001b[0m Trial 54 finished with value: 2135327766.5819201 and parameters: {'classifier': 'SVR', 'svr_c': 4220654.328840137}. Best is trial 40 with value: 1171369772.5988932.\u001b[0m\n",
            "/usr/local/lib/python3.7/dist-packages/sklearn/utils/validation.py:993: DataConversionWarning: A column-vector y was passed when a 1d array was expected. Please change the shape of y to (n_samples, ), for example using ravel().\n",
            "  y = column_or_1d(y, warn=True)\n",
            "\u001b[32m[I 2022-10-12 09:11:55,012]\u001b[0m Trial 55 finished with value: 4264198018.2002435 and parameters: {'classifier': 'SVR', 'svr_c': 25.82054109670217}. Best is trial 40 with value: 1171369772.5988932.\u001b[0m\n",
            "/usr/local/lib/python3.7/dist-packages/sklearn/utils/validation.py:993: DataConversionWarning: A column-vector y was passed when a 1d array was expected. Please change the shape of y to (n_samples, ), for example using ravel().\n",
            "  y = column_or_1d(y, warn=True)\n",
            "\u001b[32m[I 2022-10-12 09:11:55,028]\u001b[0m Trial 56 finished with value: 3286523557.7329473 and parameters: {'classifier': 'SVR', 'svr_c': 16765.589765480374}. Best is trial 40 with value: 1171369772.5988932.\u001b[0m\n",
            "/usr/local/lib/python3.7/dist-packages/sklearn/utils/validation.py:993: DataConversionWarning: A column-vector y was passed when a 1d array was expected. Please change the shape of y to (n_samples, ), for example using ravel().\n",
            "  y = column_or_1d(y, warn=True)\n",
            "\u001b[32m[I 2022-10-12 09:11:55,039]\u001b[0m Trial 57 finished with value: 2109078116.7182267 and parameters: {'classifier': 'SVR', 'svr_c': 4147133.205633595}. Best is trial 40 with value: 1171369772.5988932.\u001b[0m\n",
            "/usr/local/lib/python3.7/dist-packages/sklearn/utils/validation.py:993: DataConversionWarning: A column-vector y was passed when a 1d array was expected. Please change the shape of y to (n_samples, ), for example using ravel().\n",
            "  y = column_or_1d(y, warn=True)\n",
            "\u001b[32m[I 2022-10-12 09:11:55,183]\u001b[0m Trial 58 finished with value: 5674627722.649958 and parameters: {'classifier': 'SVR', 'svr_c': 1889254257.0472906}. Best is trial 40 with value: 1171369772.5988932.\u001b[0m\n",
            "/usr/local/lib/python3.7/dist-packages/sklearn/utils/validation.py:993: DataConversionWarning: A column-vector y was passed when a 1d array was expected. Please change the shape of y to (n_samples, ), for example using ravel().\n",
            "  y = column_or_1d(y, warn=True)\n",
            "\u001b[32m[I 2022-10-12 09:11:55,196]\u001b[0m Trial 59 finished with value: 1972310970.8568037 and parameters: {'classifier': 'SVR', 'svr_c': 155303.6453528044}. Best is trial 40 with value: 1171369772.5988932.\u001b[0m\n",
            "/usr/local/lib/python3.7/dist-packages/sklearn/utils/validation.py:993: DataConversionWarning: A column-vector y was passed when a 1d array was expected. Please change the shape of y to (n_samples, ), for example using ravel().\n",
            "  y = column_or_1d(y, warn=True)\n",
            "\u001b[32m[I 2022-10-12 09:11:55,252]\u001b[0m Trial 60 finished with value: 6060935892.134892 and parameters: {'classifier': 'SVR', 'svr_c': 39106741.92394567}. Best is trial 40 with value: 1171369772.5988932.\u001b[0m\n",
            "/usr/local/lib/python3.7/dist-packages/sklearn/utils/validation.py:993: DataConversionWarning: A column-vector y was passed when a 1d array was expected. Please change the shape of y to (n_samples, ), for example using ravel().\n",
            "  y = column_or_1d(y, warn=True)\n",
            "\u001b[32m[I 2022-10-12 09:11:55,264]\u001b[0m Trial 61 finished with value: 1023081121.4852552 and parameters: {'classifier': 'SVR', 'svr_c': 719145.6568709766}. Best is trial 61 with value: 1023081121.4852552.\u001b[0m\n",
            "/usr/local/lib/python3.7/dist-packages/sklearn/utils/validation.py:993: DataConversionWarning: A column-vector y was passed when a 1d array was expected. Please change the shape of y to (n_samples, ), for example using ravel().\n",
            "  y = column_or_1d(y, warn=True)\n",
            "\u001b[32m[I 2022-10-12 09:11:55,277]\u001b[0m Trial 62 finished with value: 709984735.3930719 and parameters: {'classifier': 'SVR', 'svr_c': 1172737.7503578938}. Best is trial 62 with value: 709984735.3930719.\u001b[0m\n",
            "/usr/local/lib/python3.7/dist-packages/sklearn/utils/validation.py:993: DataConversionWarning: A column-vector y was passed when a 1d array was expected. Please change the shape of y to (n_samples, ), for example using ravel().\n",
            "  y = column_or_1d(y, warn=True)\n",
            "\u001b[32m[I 2022-10-12 09:11:55,289]\u001b[0m Trial 63 finished with value: 3505369750.6415615 and parameters: {'classifier': 'SVR', 'svr_c': 8520.46735834031}. Best is trial 62 with value: 709984735.3930719.\u001b[0m\n",
            "/usr/local/lib/python3.7/dist-packages/sklearn/utils/validation.py:993: DataConversionWarning: A column-vector y was passed when a 1d array was expected. Please change the shape of y to (n_samples, ), for example using ravel().\n",
            "  y = column_or_1d(y, warn=True)\n",
            "\u001b[32m[I 2022-10-12 09:11:55,302]\u001b[0m Trial 64 finished with value: 1086791906.6894333 and parameters: {'classifier': 'SVR', 'svr_c': 1898969.4080913046}. Best is trial 62 with value: 709984735.3930719.\u001b[0m\n",
            "/usr/local/lib/python3.7/dist-packages/sklearn/utils/validation.py:993: DataConversionWarning: A column-vector y was passed when a 1d array was expected. Please change the shape of y to (n_samples, ), for example using ravel().\n",
            "  y = column_or_1d(y, warn=True)\n",
            "\u001b[32m[I 2022-10-12 09:11:55,315]\u001b[0m Trial 65 finished with value: 3342864990.0044127 and parameters: {'classifier': 'SVR', 'svr_c': 6577343.587788051}. Best is trial 62 with value: 709984735.3930719.\u001b[0m\n",
            "/usr/local/lib/python3.7/dist-packages/sklearn/utils/validation.py:993: DataConversionWarning: A column-vector y was passed when a 1d array was expected. Please change the shape of y to (n_samples, ), for example using ravel().\n",
            "  y = column_or_1d(y, warn=True)\n",
            "\u001b[32m[I 2022-10-12 09:11:55,420]\u001b[0m Trial 66 finished with value: 7380164218.823065 and parameters: {'classifier': 'SVR', 'svr_c': 335825521.4620945}. Best is trial 62 with value: 709984735.3930719.\u001b[0m\n",
            "/usr/local/lib/python3.7/dist-packages/sklearn/utils/validation.py:993: DataConversionWarning: A column-vector y was passed when a 1d array was expected. Please change the shape of y to (n_samples, ), for example using ravel().\n",
            "  y = column_or_1d(y, warn=True)\n",
            "\u001b[32m[I 2022-10-12 09:11:55,435]\u001b[0m Trial 67 finished with value: 1638817283.5313385 and parameters: {'classifier': 'SVR', 'svr_c': 2984783.132120069}. Best is trial 62 with value: 709984735.3930719.\u001b[0m\n",
            "/usr/local/lib/python3.7/dist-packages/sklearn/utils/validation.py:993: DataConversionWarning: A column-vector y was passed when a 1d array was expected. Please change the shape of y to (n_samples, ), for example using ravel().\n",
            "  y = column_or_1d(y, warn=True)\n",
            "\u001b[32m[I 2022-10-12 09:11:55,448]\u001b[0m Trial 68 finished with value: 4260692271.809193 and parameters: {'classifier': 'SVR', 'svr_c': 109.71447587405554}. Best is trial 62 with value: 709984735.3930719.\u001b[0m\n",
            "/usr/local/lib/python3.7/dist-packages/sklearn/utils/validation.py:993: DataConversionWarning: A column-vector y was passed when a 1d array was expected. Please change the shape of y to (n_samples, ), for example using ravel().\n",
            "  y = column_or_1d(y, warn=True)\n",
            "\u001b[32m[I 2022-10-12 09:11:55,462]\u001b[0m Trial 69 finished with value: 4265276261.111164 and parameters: {'classifier': 'SVR', 'svr_c': 0.048830024212082095}. Best is trial 62 with value: 709984735.3930719.\u001b[0m\n",
            "/usr/local/lib/python3.7/dist-packages/sklearn/utils/validation.py:993: DataConversionWarning: A column-vector y was passed when a 1d array was expected. Please change the shape of y to (n_samples, ), for example using ravel().\n",
            "  y = column_or_1d(y, warn=True)\n",
            "\u001b[32m[I 2022-10-12 09:11:55,473]\u001b[0m Trial 70 finished with value: 3248610600.285692 and parameters: {'classifier': 'SVR', 'svr_c': 13965.186291850718}. Best is trial 62 with value: 709984735.3930719.\u001b[0m\n",
            "/usr/local/lib/python3.7/dist-packages/sklearn/utils/validation.py:993: DataConversionWarning: A column-vector y was passed when a 1d array was expected. Please change the shape of y to (n_samples, ), for example using ravel().\n",
            "  y = column_or_1d(y, warn=True)\n",
            "\u001b[32m[I 2022-10-12 09:11:55,486]\u001b[0m Trial 71 finished with value: 804887723.5812055 and parameters: {'classifier': 'SVR', 'svr_c': 1590178.9092446659}. Best is trial 62 with value: 709984735.3930719.\u001b[0m\n",
            "/usr/local/lib/python3.7/dist-packages/sklearn/utils/validation.py:993: DataConversionWarning: A column-vector y was passed when a 1d array was expected. Please change the shape of y to (n_samples, ), for example using ravel().\n",
            "  y = column_or_1d(y, warn=True)\n",
            "\u001b[32m[I 2022-10-12 09:11:55,581]\u001b[0m Trial 72 finished with value: 7311836163.789975 and parameters: {'classifier': 'SVR', 'svr_c': 73627512.69871709}. Best is trial 62 with value: 709984735.3930719.\u001b[0m\n",
            "/usr/local/lib/python3.7/dist-packages/sklearn/utils/validation.py:993: DataConversionWarning: A column-vector y was passed when a 1d array was expected. Please change the shape of y to (n_samples, ), for example using ravel().\n",
            "  y = column_or_1d(y, warn=True)\n",
            "\u001b[32m[I 2022-10-12 09:11:55,596]\u001b[0m Trial 73 finished with value: 1133247759.7555685 and parameters: {'classifier': 'SVR', 'svr_c': 2007147.6400876977}. Best is trial 62 with value: 709984735.3930719.\u001b[0m\n",
            "/usr/local/lib/python3.7/dist-packages/sklearn/utils/validation.py:993: DataConversionWarning: A column-vector y was passed when a 1d array was expected. Please change the shape of y to (n_samples, ), for example using ravel().\n",
            "  y = column_or_1d(y, warn=True)\n",
            "\u001b[32m[I 2022-10-12 09:11:55,630]\u001b[0m Trial 74 finished with value: 4576636636.041943 and parameters: {'classifier': 'SVR', 'svr_c': 18077040.929000504}. Best is trial 62 with value: 709984735.3930719.\u001b[0m\n",
            "/usr/local/lib/python3.7/dist-packages/sklearn/utils/validation.py:993: DataConversionWarning: A column-vector y was passed when a 1d array was expected. Please change the shape of y to (n_samples, ), for example using ravel().\n",
            "  y = column_or_1d(y, warn=True)\n",
            "\u001b[32m[I 2022-10-12 09:11:55,642]\u001b[0m Trial 75 finished with value: 1397267834.7086082 and parameters: {'classifier': 'SVR', 'svr_c': 2554477.4375180313}. Best is trial 62 with value: 709984735.3930719.\u001b[0m\n",
            "/usr/local/lib/python3.7/dist-packages/sklearn/utils/validation.py:993: DataConversionWarning: A column-vector y was passed when a 1d array was expected. Please change the shape of y to (n_samples, ), for example using ravel().\n",
            "  y = column_or_1d(y, warn=True)\n",
            "\u001b[32m[I 2022-10-12 09:11:55,776]\u001b[0m Trial 76 finished with value: 7456418952.515728 and parameters: {'classifier': 'SVR', 'svr_c': 423190715.98250175}. Best is trial 62 with value: 709984735.3930719.\u001b[0m\n",
            "/usr/local/lib/python3.7/dist-packages/sklearn/utils/validation.py:993: DataConversionWarning: A column-vector y was passed when a 1d array was expected. Please change the shape of y to (n_samples, ), for example using ravel().\n",
            "  y = column_or_1d(y, warn=True)\n",
            "\u001b[32m[I 2022-10-12 09:11:55,790]\u001b[0m Trial 77 finished with value: 2966858824.030945 and parameters: {'classifier': 'SVR', 'svr_c': 47674.68056514555}. Best is trial 62 with value: 709984735.3930719.\u001b[0m\n",
            "/usr/local/lib/python3.7/dist-packages/sklearn/utils/validation.py:993: DataConversionWarning: A column-vector y was passed when a 1d array was expected. Please change the shape of y to (n_samples, ), for example using ravel().\n",
            "  y = column_or_1d(y, warn=True)\n",
            "\u001b[32m[I 2022-10-12 09:11:55,802]\u001b[0m Trial 78 finished with value: 4230125730.611676 and parameters: {'classifier': 'SVR', 'svr_c': 847.856791752877}. Best is trial 62 with value: 709984735.3930719.\u001b[0m\n",
            "/usr/local/lib/python3.7/dist-packages/sklearn/utils/validation.py:993: DataConversionWarning: A column-vector y was passed when a 1d array was expected. Please change the shape of y to (n_samples, ), for example using ravel().\n",
            "  y = column_or_1d(y, warn=True)\n",
            "\u001b[32m[I 2022-10-12 09:11:55,819]\u001b[0m Trial 79 finished with value: 701458232.9724885 and parameters: {'classifier': 'SVR', 'svr_c': 1319012.9490425165}. Best is trial 79 with value: 701458232.9724885.\u001b[0m\n",
            "/usr/local/lib/python3.7/dist-packages/sklearn/utils/validation.py:993: DataConversionWarning: A column-vector y was passed when a 1d array was expected. Please change the shape of y to (n_samples, ), for example using ravel().\n",
            "  y = column_or_1d(y, warn=True)\n",
            "\u001b[32m[I 2022-10-12 09:11:55,837]\u001b[0m Trial 80 finished with value: 4265278304.6525784 and parameters: {'classifier': 'SVR', 'svr_c': 1.731379467146794e-10}. Best is trial 79 with value: 701458232.9724885.\u001b[0m\n",
            "/usr/local/lib/python3.7/dist-packages/sklearn/utils/validation.py:993: DataConversionWarning: A column-vector y was passed when a 1d array was expected. Please change the shape of y to (n_samples, ), for example using ravel().\n",
            "  y = column_or_1d(y, warn=True)\n",
            "\u001b[32m[I 2022-10-12 09:11:55,854]\u001b[0m Trial 81 finished with value: 732644015.6301694 and parameters: {'classifier': 'SVR', 'svr_c': 1095586.370290009}. Best is trial 79 with value: 701458232.9724885.\u001b[0m\n",
            "/usr/local/lib/python3.7/dist-packages/sklearn/utils/validation.py:993: DataConversionWarning: A column-vector y was passed when a 1d array was expected. Please change the shape of y to (n_samples, ), for example using ravel().\n",
            "  y = column_or_1d(y, warn=True)\n",
            "\u001b[32m[I 2022-10-12 09:11:55,872]\u001b[0m Trial 82 finished with value: 2347991393.179275 and parameters: {'classifier': 'SVR', 'svr_c': 98809.86009188877}. Best is trial 79 with value: 701458232.9724885.\u001b[0m\n",
            "/usr/local/lib/python3.7/dist-packages/sklearn/utils/validation.py:993: DataConversionWarning: A column-vector y was passed when a 1d array was expected. Please change the shape of y to (n_samples, ), for example using ravel().\n",
            "  y = column_or_1d(y, warn=True)\n",
            "\u001b[32m[I 2022-10-12 09:11:55,887]\u001b[0m Trial 83 finished with value: 1042389424.5865818 and parameters: {'classifier': 'SVR', 'svr_c': 1860809.690808212}. Best is trial 79 with value: 701458232.9724885.\u001b[0m\n",
            "/usr/local/lib/python3.7/dist-packages/sklearn/utils/validation.py:993: DataConversionWarning: A column-vector y was passed when a 1d array was expected. Please change the shape of y to (n_samples, ), for example using ravel().\n",
            "  y = column_or_1d(y, warn=True)\n",
            "\u001b[32m[I 2022-10-12 09:11:55,905]\u001b[0m Trial 84 finished with value: 863524817.2095038 and parameters: {'classifier': 'SVR', 'svr_c': 1674376.7812583449}. Best is trial 79 with value: 701458232.9724885.\u001b[0m\n",
            "/usr/local/lib/python3.7/dist-packages/sklearn/utils/validation.py:993: DataConversionWarning: A column-vector y was passed when a 1d array was expected. Please change the shape of y to (n_samples, ), for example using ravel().\n",
            "  y = column_or_1d(y, warn=True)\n",
            "\u001b[32m[I 2022-10-12 09:11:55,920]\u001b[0m Trial 85 finished with value: 829155668.9199237 and parameters: {'classifier': 'SVR', 'svr_c': 1626630.3693679238}. Best is trial 79 with value: 701458232.9724885.\u001b[0m\n",
            "/usr/local/lib/python3.7/dist-packages/sklearn/utils/validation.py:993: DataConversionWarning: A column-vector y was passed when a 1d array was expected. Please change the shape of y to (n_samples, ), for example using ravel().\n",
            "  y = column_or_1d(y, warn=True)\n",
            "\u001b[32m[I 2022-10-12 09:11:55,946]\u001b[0m Trial 86 finished with value: 4842643788.055337 and parameters: {'classifier': 'SVR', 'svr_c': 22063997.066160146}. Best is trial 79 with value: 701458232.9724885.\u001b[0m\n",
            "/usr/local/lib/python3.7/dist-packages/sklearn/utils/validation.py:993: DataConversionWarning: A column-vector y was passed when a 1d array was expected. Please change the shape of y to (n_samples, ), for example using ravel().\n",
            "  y = column_or_1d(y, warn=True)\n",
            "\u001b[32m[I 2022-10-12 09:11:56,553]\u001b[0m Trial 87 finished with value: 31761576037.017788 and parameters: {'classifier': 'SVR', 'svr_c': 7422683362.01031}. Best is trial 79 with value: 701458232.9724885.\u001b[0m\n",
            "/usr/local/lib/python3.7/dist-packages/sklearn/utils/validation.py:993: DataConversionWarning: A column-vector y was passed when a 1d array was expected. Please change the shape of y to (n_samples, ), for example using ravel().\n",
            "  y = column_or_1d(y, warn=True)\n",
            "\u001b[32m[I 2022-10-12 09:11:56,657]\u001b[0m Trial 88 finished with value: 7314581449.054336 and parameters: {'classifier': 'SVR', 'svr_c': 199673791.57394466}. Best is trial 79 with value: 701458232.9724885.\u001b[0m\n",
            "/usr/local/lib/python3.7/dist-packages/sklearn/utils/validation.py:993: DataConversionWarning: A column-vector y was passed when a 1d array was expected. Please change the shape of y to (n_samples, ), for example using ravel().\n",
            "  y = column_or_1d(y, warn=True)\n",
            "\u001b[32m[I 2022-10-12 09:11:56,671]\u001b[0m Trial 89 finished with value: 4265278304.4720964 and parameters: {'classifier': 'SVR', 'svr_c': 4.312746138699709e-06}. Best is trial 79 with value: 701458232.9724885.\u001b[0m\n",
            "/usr/local/lib/python3.7/dist-packages/sklearn/utils/validation.py:993: DataConversionWarning: A column-vector y was passed when a 1d array was expected. Please change the shape of y to (n_samples, ), for example using ravel().\n",
            "  y = column_or_1d(y, warn=True)\n",
            "\u001b[32m[I 2022-10-12 09:11:56,685]\u001b[0m Trial 90 finished with value: 716968598.2554593 and parameters: {'classifier': 'SVR', 'svr_c': 1403133.6725988206}. Best is trial 79 with value: 701458232.9724885.\u001b[0m\n",
            "/usr/local/lib/python3.7/dist-packages/sklearn/utils/validation.py:993: DataConversionWarning: A column-vector y was passed when a 1d array was expected. Please change the shape of y to (n_samples, ), for example using ravel().\n",
            "  y = column_or_1d(y, warn=True)\n",
            "\u001b[32m[I 2022-10-12 09:11:56,699]\u001b[0m Trial 91 finished with value: 769742266.1370597 and parameters: {'classifier': 'SVR', 'svr_c': 1014928.148134714}. Best is trial 79 with value: 701458232.9724885.\u001b[0m\n",
            "/usr/local/lib/python3.7/dist-packages/sklearn/utils/validation.py:993: DataConversionWarning: A column-vector y was passed when a 1d array was expected. Please change the shape of y to (n_samples, ), for example using ravel().\n",
            "  y = column_or_1d(y, warn=True)\n",
            "\u001b[32m[I 2022-10-12 09:11:56,713]\u001b[0m Trial 92 finished with value: 1049202325.3209643 and parameters: {'classifier': 'SVR', 'svr_c': 697217.2040867007}. Best is trial 79 with value: 701458232.9724885.\u001b[0m\n",
            "/usr/local/lib/python3.7/dist-packages/sklearn/utils/validation.py:993: DataConversionWarning: A column-vector y was passed when a 1d array was expected. Please change the shape of y to (n_samples, ), for example using ravel().\n",
            "  y = column_or_1d(y, warn=True)\n",
            "\u001b[32m[I 2022-10-12 09:11:56,726]\u001b[0m Trial 93 finished with value: 2452121200.9812245 and parameters: {'classifier': 'SVR', 'svr_c': 78528.7487924064}. Best is trial 79 with value: 701458232.9724885.\u001b[0m\n",
            "/usr/local/lib/python3.7/dist-packages/sklearn/utils/validation.py:993: DataConversionWarning: A column-vector y was passed when a 1d array was expected. Please change the shape of y to (n_samples, ), for example using ravel().\n",
            "  y = column_or_1d(y, warn=True)\n",
            "\u001b[32m[I 2022-10-12 09:11:56,778]\u001b[0m Trial 94 finished with value: 4682670303.587204 and parameters: {'classifier': 'SVR', 'svr_c': 19702759.93693366}. Best is trial 79 with value: 701458232.9724885.\u001b[0m\n",
            "/usr/local/lib/python3.7/dist-packages/sklearn/utils/validation.py:993: DataConversionWarning: A column-vector y was passed when a 1d array was expected. Please change the shape of y to (n_samples, ), for example using ravel().\n",
            "  y = column_or_1d(y, warn=True)\n",
            "\u001b[32m[I 2022-10-12 09:11:56,792]\u001b[0m Trial 95 finished with value: 4056000842.4956355 and parameters: {'classifier': 'SVR', 'svr_c': 5310.276218173866}. Best is trial 79 with value: 701458232.9724885.\u001b[0m\n",
            "/usr/local/lib/python3.7/dist-packages/sklearn/utils/validation.py:993: DataConversionWarning: A column-vector y was passed when a 1d array was expected. Please change the shape of y to (n_samples, ), for example using ravel().\n",
            "  y = column_or_1d(y, warn=True)\n",
            "\u001b[32m[I 2022-10-12 09:11:56,805]\u001b[0m Trial 96 finished with value: 718527571.7456888 and parameters: {'classifier': 'SVR', 'svr_c': 1138377.0737562259}. Best is trial 79 with value: 701458232.9724885.\u001b[0m\n",
            "/usr/local/lib/python3.7/dist-packages/sklearn/utils/validation.py:993: DataConversionWarning: A column-vector y was passed when a 1d array was expected. Please change the shape of y to (n_samples, ), for example using ravel().\n",
            "  y = column_or_1d(y, warn=True)\n",
            "\u001b[32m[I 2022-10-12 09:11:56,820]\u001b[0m Trial 97 finished with value: 2307796910.7045655 and parameters: {'classifier': 'SVR', 'svr_c': 103789.3897057}. Best is trial 79 with value: 701458232.9724885.\u001b[0m\n",
            "/usr/local/lib/python3.7/dist-packages/sklearn/utils/validation.py:993: DataConversionWarning: A column-vector y was passed when a 1d array was expected. Please change the shape of y to (n_samples, ), for example using ravel().\n",
            "  y = column_or_1d(y, warn=True)\n",
            "\u001b[32m[I 2022-10-12 09:11:56,959]\u001b[0m Trial 98 finished with value: 6391210542.526706 and parameters: {'classifier': 'SVR', 'svr_c': 1078315230.6793146}. Best is trial 79 with value: 701458232.9724885.\u001b[0m\n",
            "/usr/local/lib/python3.7/dist-packages/sklearn/utils/validation.py:993: DataConversionWarning: A column-vector y was passed when a 1d array was expected. Please change the shape of y to (n_samples, ), for example using ravel().\n",
            "  y = column_or_1d(y, warn=True)\n",
            "\u001b[32m[I 2022-10-12 09:11:56,973]\u001b[0m Trial 99 finished with value: 1226686805.3881087 and parameters: {'classifier': 'SVR', 'svr_c': 561973.2300103082}. Best is trial 79 with value: 701458232.9724885.\u001b[0m\n"
          ]
        },
        {
          "output_type": "execute_result",
          "data": {
            "text/plain": [
              "{'classifier': 'SVR', 'svr_c': 1319012.9490425165}"
            ]
          },
          "metadata": {},
          "execution_count": 32
        }
      ]
    }
  ]
}