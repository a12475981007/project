{
  "nbformat": 4,
  "nbformat_minor": 0,
  "metadata": {
    "colab": {
      "name": "50_Startups_20221012.ipynb",
      "provenance": []
    },
    "kernelspec": {
      "name": "python3",
      "display_name": "Python 3"
    },
    "language_info": {
      "name": "python"
    }
  },
  "cells": [
    {
      "cell_type": "markdown",
      "metadata": {
        "id": "i_yVVNxxiguo"
      },
      "source": [
        "# Topic : Lecture 3 Multi-Linear regression\n",
        "<img src=\"https://www.tribloom.com/wp-content/uploads/2019/08/CRISP-DM_Process_Diagram-768x769.png\" height=300>\n",
        "\n",
        "Follow the CRSIP-DM method\n",
        "1. Step 1: Import library, import data\n",
        "2. Step 2: Pre-processing (missing data, categorical type, normalization, format transform)\n",
        "3. Step 3: Build ML Model\n",
        "4. Step 4: Evaluate Model\n",
        "5. Step 5: Deploy (Prediction)\n"
      ]
    },
    {
      "cell_type": "code",
      "metadata": {
        "id": "wwcxdMbAznz8"
      },
      "source": [],
      "execution_count": 3,
      "outputs": []
    },
    {
      "cell_type": "code",
      "metadata": {
        "id": "L8crnXTazoGB"
      },
      "source": [],
      "execution_count": 3,
      "outputs": []
    },
    {
      "cell_type": "markdown",
      "metadata": {
        "id": "2GCRWZkZjN9l"
      },
      "source": [
        "## Step 1: Load data (also import library)"
      ]
    },
    {
      "cell_type": "code",
      "metadata": {
        "colab": {
          "base_uri": "https://localhost:8080/"
        },
        "id": "etxMQrAGewis",
        "outputId": "d19a9939-0bb0-4d61-cf20-1fa9b7c34050"
      },
      "source": [
        "# import library\n",
        "import numpy as np\n",
        "import pandas as pd\n",
        "import matplotlib.pyplot as plt\n",
        "\n",
        "#import data\n",
        "data=pd.read_csv(\"50_Startups.csv\")\n",
        "print(data.head()) # show first 5 items\n",
        "print(type(data))\n",
        "print(data.info())\n",
        "\n",
        "\n"
      ],
      "execution_count": 4,
      "outputs": [
        {
          "output_type": "stream",
          "name": "stdout",
          "text": [
            "   R&D Spend  Administration  Marketing Spend       State     Profit\n",
            "0  165349.20       136897.80        471784.10    New York  192261.83\n",
            "1  162597.70       151377.59        443898.53  California  191792.06\n",
            "2  153441.51       101145.55        407934.54     Florida  191050.39\n",
            "3  144372.41       118671.85        383199.62    New York  182901.99\n",
            "4  142107.34        91391.77        366168.42     Florida  166187.94\n",
            "<class 'pandas.core.frame.DataFrame'>\n",
            "<class 'pandas.core.frame.DataFrame'>\n",
            "RangeIndex: 50 entries, 0 to 49\n",
            "Data columns (total 5 columns):\n",
            " #   Column           Non-Null Count  Dtype  \n",
            "---  ------           --------------  -----  \n",
            " 0   R&D Spend        50 non-null     float64\n",
            " 1   Administration   50 non-null     float64\n",
            " 2   Marketing Spend  50 non-null     float64\n",
            " 3   State            50 non-null     object \n",
            " 4   Profit           50 non-null     float64\n",
            "dtypes: float64(4), object(1)\n",
            "memory usage: 2.1+ KB\n",
            "None\n"
          ]
        }
      ]
    },
    {
      "cell_type": "code",
      "metadata": {
        "id": "ACDISJY0gJR3"
      },
      "source": [],
      "execution_count": 4,
      "outputs": []
    },
    {
      "cell_type": "code",
      "metadata": {
        "id": "h_q7dhHikvqg"
      },
      "source": [],
      "execution_count": 4,
      "outputs": []
    },
    {
      "cell_type": "markdown",
      "metadata": {
        "id": "IZeClHb-jUhh"
      },
      "source": [
        "# Step 2: Pre-process X, Y\n",
        "* 資料型別的 transformation) format transform (轉換成numpy format)\n",
        "* (missing data=> imputation, \n",
        "* normalization\n",
        "* data type 例如 categorical data onehot encoding, Label_Encoding, padas 套件有一個簡單的 get_dummies 的API\n",
        "\n"
      ]
    },
    {
      "cell_type": "code",
      "metadata": {
        "colab": {
          "base_uri": "https://localhost:8080/"
        },
        "id": "uFbekwkvjSv7",
        "outputId": "4fb3fc2b-6575-42ca-def2-a6e233088cd3"
      },
      "source": [
        "#1. (missing data=> imputation,\n",
        "# no missing data\n",
        "\n",
        "#2. normalization\n",
        "# Skip sklearn linear model 會幫我們做\n",
        "\n",
        "#3. nominal data 的轉換 ==> pandas 下面 pd.getdummies\n",
        "#==> X 5個特徵 1Y\n",
        "\n",
        "X=data.iloc[:,:-1]\n",
        "Y=data.iloc[:,-1]\n",
        "\n",
        "print('--------------------------------Before ont hot encode--------------------------------')\n",
        "print(X[:5],'\\n')\n",
        "\n",
        "\n",
        "################ one hot encode ################\n",
        "X=pd.get_dummies(X)\n",
        "\n",
        "print('--------------------------------After ont hot encode--------------------------------')\n",
        "print(X[:5],'\\n')\n",
        "\n",
        "################ Reshape X ################\n",
        "X=X.values.reshape(-1,6)\n",
        "\n",
        "print('--------------------------------After reshape--------------------------------')\n",
        "print(X[:5,3:],'\\n')\n",
        "\n",
        "\n",
        "\n",
        "print('--------------------------------Before transformate Y--------------------------------')\n",
        "print(type(Y),'\\n')\n",
        "\n",
        "\n",
        "#4. 資料型別的 transformation) format transform (轉換成numpy format)\n",
        "Y=Y.values.reshape(-1,1)\n",
        "\n",
        "print('--------------------------------After transformate Y--------------------------------')\n",
        "print(type(Y),'\\n')\n",
        "\n",
        "\n",
        "#去除X最後一列\n",
        "X=X[:,:-1] \n",
        "\n",
        "print('--------------------------------Before Random Split Date to Test&Train--------------------------------')\n",
        "print(type(X),X.shape)\n",
        "print(type(Y),Y.shape)\n",
        "print('\\n')\n",
        "\n",
        "from sklearn.model_selection import train_test_split\n",
        "#使用 sklearn.model_selection.train_test_spli 隨機切分訓練資料與測試資料\n",
        "#test_size 設定所有資料百分比為測試資料\n",
        "#random_state 隨機數種子：其實就是該組隨機數的編號，在需要重複試驗的時候，保證得到一組一樣的隨機數。比如你每次都填1，其他引數一樣的情況下你得到的隨機陣列是一樣的。但填0或不填，每次都會不一樣。\n",
        "X_train, X_test, Y_train, Y_test = train_test_split(X, Y, test_size = 0.2, random_state = 0)\n",
        "print('--------------------------------After Random Split Date to Test&Train--------------------------------')\n",
        "print(type(X_train),X_train.shape)\n",
        "print(type(Y_train),Y_train.shape)"
      ],
      "execution_count": 5,
      "outputs": [
        {
          "output_type": "stream",
          "name": "stdout",
          "text": [
            "--------------------------------Before ont hot encode--------------------------------\n",
            "   R&D Spend  Administration  Marketing Spend       State\n",
            "0  165349.20       136897.80        471784.10    New York\n",
            "1  162597.70       151377.59        443898.53  California\n",
            "2  153441.51       101145.55        407934.54     Florida\n",
            "3  144372.41       118671.85        383199.62    New York\n",
            "4  142107.34        91391.77        366168.42     Florida \n",
            "\n",
            "--------------------------------After ont hot encode--------------------------------\n",
            "   R&D Spend  Administration  Marketing Spend  State_California  \\\n",
            "0  165349.20       136897.80        471784.10                 0   \n",
            "1  162597.70       151377.59        443898.53                 1   \n",
            "2  153441.51       101145.55        407934.54                 0   \n",
            "3  144372.41       118671.85        383199.62                 0   \n",
            "4  142107.34        91391.77        366168.42                 0   \n",
            "\n",
            "   State_Florida  State_New York  \n",
            "0              0               1  \n",
            "1              0               0  \n",
            "2              1               0  \n",
            "3              0               1  \n",
            "4              1               0   \n",
            "\n",
            "--------------------------------After reshape--------------------------------\n",
            "[[0. 0. 1.]\n",
            " [1. 0. 0.]\n",
            " [0. 1. 0.]\n",
            " [0. 0. 1.]\n",
            " [0. 1. 0.]] \n",
            "\n",
            "--------------------------------Before transformate Y--------------------------------\n",
            "<class 'pandas.core.series.Series'> \n",
            "\n",
            "--------------------------------After transformate Y--------------------------------\n",
            "<class 'numpy.ndarray'> \n",
            "\n",
            "--------------------------------Before Random Split Date to Test&Train--------------------------------\n",
            "<class 'numpy.ndarray'> (50, 5)\n",
            "<class 'numpy.ndarray'> (50, 1)\n",
            "\n",
            "\n",
            "--------------------------------After Random Split Date to Test&Train--------------------------------\n",
            "<class 'numpy.ndarray'> (40, 5)\n",
            "<class 'numpy.ndarray'> (40, 1)\n"
          ]
        }
      ]
    },
    {
      "cell_type": "markdown",
      "source": [
        "# 替換替換值為0"
      ],
      "metadata": {
        "id": "8mmXptneiCeu"
      }
    },
    {
      "cell_type": "code",
      "source": [
        "from sklearn.impute import SimpleImputer\n",
        "imputer = SimpleImputer(missing_values=0, strategy='mean')\n",
        "imputer.fit(X[:, 0:3])\n",
        "X[:, 0:3] = imputer.transform(X[:, 0:3] )"
      ],
      "metadata": {
        "id": "G616BL0KiQx2"
      },
      "execution_count": 6,
      "outputs": []
    },
    {
      "cell_type": "markdown",
      "metadata": {
        "id": "9QPyEdSBjayd"
      },
      "source": [
        "# Step 3: Build Model for training"
      ]
    },
    {
      "cell_type": "code",
      "metadata": {
        "colab": {
          "base_uri": "https://localhost:8080/"
        },
        "id": "LerAPU8FoPqI",
        "outputId": "0e70fa11-4ba4-49ce-f092-a4ff712d1edb"
      },
      "source": [
        "from sklearn.linear_model import LinearRegression as LR\n",
        "model=LR()  # constructor\n",
        "#all in policy\n",
        "model.fit(X_train,Y_train) # training==> find a* and b*\n",
        "\n",
        "print(model) \n",
        "print(\"a*=\",model.coef_,\"b*=\",model.intercept_, )\n"
      ],
      "execution_count": 7,
      "outputs": [
        {
          "output_type": "stream",
          "name": "stdout",
          "text": [
            "LinearRegression()\n",
            "a*= [[ 7.73467193e-01  3.28845975e-02  3.66100259e-02 -6.99369053e+02\n",
            "  -1.65865321e+03]] b*= [43253.53667068]\n"
          ]
        }
      ]
    },
    {
      "cell_type": "markdown",
      "metadata": {
        "id": "k9iQ2Zoljhv3"
      },
      "source": [
        "# Step 4: Evalute Model"
      ]
    },
    {
      "cell_type": "code",
      "metadata": {
        "id": "cUp3s-j9podg",
        "colab": {
          "base_uri": "https://localhost:8080/"
        },
        "outputId": "432e18e9-226a-4e88-8cb2-1b7601e9f751"
      },
      "source": [
        "from sklearn.metrics import r2_score as R2\n",
        "from sklearn.metrics import mean_squared_error as MSE\n",
        "yPre=model.predict(X_train)\n",
        "print(\"MSE=\",MSE(Y_train,yPre))\n",
        "print(\"R2=\",R2(Y_train,yPre))\n",
        "\n",
        "\n",
        "#backward selection \n",
        "#檢查p-values select 重要的特徵\n",
        "import statsmodels.api as sm\n",
        "X_train = np.append(arr = np.ones((40, 1)).astype(int), values = X_train, axis = 1)\n",
        "X_opt = X_train [:, [0, 1, 2, 3, 4, 5]]\n",
        "regressor_OLS = sm.OLS(endog = Y_train, exog = X_opt).fit()\n",
        "print(\"===================================================\")\n",
        "print('0-5', regressor_OLS.summary())\n",
        "print(\"====================================================\")\n",
        "\n",
        "\n",
        "X_opt = X_train [:, [0, 1, 2, 3, 5]]\n",
        "regressor_OLS = sm.OLS(endog = Y_train, exog = X_opt).fit()\n",
        "print(\"====================================================\")\n",
        "print('01235',regressor_OLS.summary())\n",
        "print(\"====================================================\")\n",
        "\n",
        "X_opt = X_train [:, [0, 1, 2, 3]]\n",
        "regressor_OLS = sm.OLS(endog = Y_train, exog = X_opt).fit()\n",
        "print(\"====================================================\")\n",
        "print('0123',regressor_OLS.summary())\n",
        "print(\"====================================================\")\n",
        "\n",
        "\n",
        "X_opt = X_train [:, [0, 1, 3]]\n",
        "regressor_OLS = sm.OLS(endog = Y_train, exog = X_opt).fit()\n",
        "print(\"====================================================\")\n",
        "print('013',regressor_OLS.summary())\n",
        "print(\"====================================================\")\n",
        "\n",
        "\n",
        "X_opt = X_train [:, [0, 1]]\n",
        "regressor_OLS = sm.OLS(endog = Y_train, exog = X_opt).fit()\n",
        "print(\"====================================================\")\n",
        "print('01',regressor_OLS.summary())\n",
        "print(\"====================================================\")\n",
        "\n",
        "\n"
      ],
      "execution_count": 8,
      "outputs": [
        {
          "output_type": "stream",
          "name": "stdout",
          "text": [
            "MSE= 81571001.8007737\n",
            "R2= 0.9501847627493607\n",
            "===================================================\n",
            "0-5                             OLS Regression Results                            \n",
            "==============================================================================\n",
            "Dep. Variable:                      y   R-squared:                       0.950\n",
            "Model:                            OLS   Adj. R-squared:                  0.943\n",
            "Method:                 Least Squares   F-statistic:                     129.7\n",
            "Date:                Tue, 11 Oct 2022   Prob (F-statistic):           3.91e-21\n",
            "Time:                        08:39:06   Log-Likelihood:                -421.10\n",
            "No. Observations:                  40   AIC:                             854.2\n",
            "Df Residuals:                      34   BIC:                             864.3\n",
            "Df Model:                           5                                         \n",
            "Covariance Type:            nonrobust                                         \n",
            "==============================================================================\n",
            "                 coef    std err          t      P>|t|      [0.025      0.975]\n",
            "------------------------------------------------------------------------------\n",
            "const       4.325e+04   8315.816      5.201      0.000    2.64e+04    6.02e+04\n",
            "x1             0.7735      0.055     14.025      0.000       0.661       0.886\n",
            "x2             0.0329      0.066      0.495      0.624      -0.102       0.168\n",
            "x3             0.0366      0.019      1.884      0.068      -0.003       0.076\n",
            "x4          -699.3691   3661.563     -0.191      0.850   -8140.560    6741.822\n",
            "x5         -1658.6532   4209.221     -0.394      0.696   -1.02e+04    6895.513\n",
            "==============================================================================\n",
            "Omnibus:                       15.823   Durbin-Watson:                   2.468\n",
            "Prob(Omnibus):                  0.000   Jarque-Bera (JB):               23.231\n",
            "Skew:                          -1.094   Prob(JB):                     9.03e-06\n",
            "Kurtosis:                       6.025   Cond. No.                     1.48e+06\n",
            "==============================================================================\n",
            "\n",
            "Notes:\n",
            "[1] Standard Errors assume that the covariance matrix of the errors is correctly specified.\n",
            "[2] The condition number is large, 1.48e+06. This might indicate that there are\n",
            "strong multicollinearity or other numerical problems.\n",
            "====================================================\n",
            "====================================================\n",
            "01235                             OLS Regression Results                            \n",
            "==============================================================================\n",
            "Dep. Variable:                      y   R-squared:                       0.950\n",
            "Model:                            OLS   Adj. R-squared:                  0.944\n",
            "Method:                 Least Squares   F-statistic:                     166.7\n",
            "Date:                Tue, 11 Oct 2022   Prob (F-statistic):           2.87e-22\n",
            "Time:                        08:39:06   Log-Likelihood:                -421.12\n",
            "No. Observations:                  40   AIC:                             852.2\n",
            "Df Residuals:                      35   BIC:                             860.7\n",
            "Df Model:                           4                                         \n",
            "Covariance Type:            nonrobust                                         \n",
            "==============================================================================\n",
            "                 coef    std err          t      P>|t|      [0.025      0.975]\n",
            "------------------------------------------------------------------------------\n",
            "const       4.292e+04   8020.397      5.352      0.000    2.66e+04    5.92e+04\n",
            "x1             0.7754      0.053     14.498      0.000       0.667       0.884\n",
            "x2             0.0319      0.065      0.488      0.629      -0.101       0.165\n",
            "x3             0.0363      0.019      1.902      0.065      -0.002       0.075\n",
            "x4         -1272.1608   3639.780     -0.350      0.729   -8661.308    6116.986\n",
            "==============================================================================\n",
            "Omnibus:                       16.074   Durbin-Watson:                   2.467\n",
            "Prob(Omnibus):                  0.000   Jarque-Bera (JB):               24.553\n",
            "Skew:                          -1.086   Prob(JB):                     4.66e-06\n",
            "Kurtosis:                       6.164   Cond. No.                     1.43e+06\n",
            "==============================================================================\n",
            "\n",
            "Notes:\n",
            "[1] Standard Errors assume that the covariance matrix of the errors is correctly specified.\n",
            "[2] The condition number is large, 1.43e+06. This might indicate that there are\n",
            "strong multicollinearity or other numerical problems.\n",
            "====================================================\n",
            "====================================================\n",
            "0123                             OLS Regression Results                            \n",
            "==============================================================================\n",
            "Dep. Variable:                      y   R-squared:                       0.950\n",
            "Model:                            OLS   Adj. R-squared:                  0.946\n",
            "Method:                 Least Squares   F-statistic:                     227.8\n",
            "Date:                Tue, 11 Oct 2022   Prob (F-statistic):           1.85e-23\n",
            "Time:                        08:39:06   Log-Likelihood:                -421.19\n",
            "No. Observations:                  40   AIC:                             850.4\n",
            "Df Residuals:                      36   BIC:                             857.1\n",
            "Df Model:                           3                                         \n",
            "Covariance Type:            nonrobust                                         \n",
            "==============================================================================\n",
            "                 coef    std err          t      P>|t|      [0.025      0.975]\n",
            "------------------------------------------------------------------------------\n",
            "const       4.299e+04   7919.773      5.428      0.000    2.69e+04    5.91e+04\n",
            "x1             0.7788      0.052     15.003      0.000       0.674       0.884\n",
            "x2             0.0294      0.064      0.458      0.650      -0.101       0.160\n",
            "x3             0.0347      0.018      1.896      0.066      -0.002       0.072\n",
            "==============================================================================\n",
            "Omnibus:                       15.557   Durbin-Watson:                   2.481\n",
            "Prob(Omnibus):                  0.000   Jarque-Bera (JB):               22.539\n",
            "Skew:                          -1.081   Prob(JB):                     1.28e-05\n",
            "Kurtosis:                       5.974   Cond. No.                     1.43e+06\n",
            "==============================================================================\n",
            "\n",
            "Notes:\n",
            "[1] Standard Errors assume that the covariance matrix of the errors is correctly specified.\n",
            "[2] The condition number is large, 1.43e+06. This might indicate that there are\n",
            "strong multicollinearity or other numerical problems.\n",
            "====================================================\n",
            "====================================================\n",
            "013                             OLS Regression Results                            \n",
            "==============================================================================\n",
            "Dep. Variable:                      y   R-squared:                       0.950\n",
            "Model:                            OLS   Adj. R-squared:                  0.947\n",
            "Method:                 Least Squares   F-statistic:                     349.0\n",
            "Date:                Tue, 11 Oct 2022   Prob (F-statistic):           9.65e-25\n",
            "Time:                        08:39:06   Log-Likelihood:                -421.30\n",
            "No. Observations:                  40   AIC:                             848.6\n",
            "Df Residuals:                      37   BIC:                             853.7\n",
            "Df Model:                           2                                         \n",
            "Covariance Type:            nonrobust                                         \n",
            "==============================================================================\n",
            "                 coef    std err          t      P>|t|      [0.025      0.975]\n",
            "------------------------------------------------------------------------------\n",
            "const       4.635e+04   2971.236     15.598      0.000    4.03e+04    5.24e+04\n",
            "x1             0.7886      0.047     16.846      0.000       0.694       0.883\n",
            "x2             0.0326      0.018      1.860      0.071      -0.003       0.068\n",
            "==============================================================================\n",
            "Omnibus:                       14.666   Durbin-Watson:                   2.518\n",
            "Prob(Omnibus):                  0.001   Jarque-Bera (JB):               20.582\n",
            "Skew:                          -1.030   Prob(JB):                     3.39e-05\n",
            "Kurtosis:                       5.847   Cond. No.                     4.97e+05\n",
            "==============================================================================\n",
            "\n",
            "Notes:\n",
            "[1] Standard Errors assume that the covariance matrix of the errors is correctly specified.\n",
            "[2] The condition number is large, 4.97e+05. This might indicate that there are\n",
            "strong multicollinearity or other numerical problems.\n",
            "====================================================\n",
            "====================================================\n",
            "01                             OLS Regression Results                            \n",
            "==============================================================================\n",
            "Dep. Variable:                      y   R-squared:                       0.945\n",
            "Model:                            OLS   Adj. R-squared:                  0.944\n",
            "Method:                 Least Squares   F-statistic:                     652.4\n",
            "Date:                Tue, 11 Oct 2022   Prob (F-statistic):           1.56e-25\n",
            "Time:                        08:39:06   Log-Likelihood:                -423.09\n",
            "No. Observations:                  40   AIC:                             850.2\n",
            "Df Residuals:                      38   BIC:                             853.6\n",
            "Df Model:                           1                                         \n",
            "Covariance Type:            nonrobust                                         \n",
            "==============================================================================\n",
            "                 coef    std err          t      P>|t|      [0.025      0.975]\n",
            "------------------------------------------------------------------------------\n",
            "const       4.842e+04   2842.717     17.032      0.000    4.27e+04    5.42e+04\n",
            "x1             0.8516      0.033     25.542      0.000       0.784       0.919\n",
            "==============================================================================\n",
            "Omnibus:                       13.132   Durbin-Watson:                   2.325\n",
            "Prob(Omnibus):                  0.001   Jarque-Bera (JB):               16.254\n",
            "Skew:                          -0.991   Prob(JB):                     0.000295\n",
            "Kurtosis:                       5.413   Cond. No.                     1.57e+05\n",
            "==============================================================================\n",
            "\n",
            "Notes:\n",
            "[1] Standard Errors assume that the covariance matrix of the errors is correctly specified.\n",
            "[2] The condition number is large, 1.57e+05. This might indicate that there are\n",
            "strong multicollinearity or other numerical problems.\n",
            "====================================================\n"
          ]
        }
      ]
    },
    {
      "cell_type": "markdown",
      "metadata": {
        "id": "Y4EWHwjBjlA_"
      },
      "source": [
        "# Step 5: Deploy Model to predict new value"
      ]
    },
    {
      "cell_type": "code",
      "metadata": {
        "id": "LPmANWuLlJkl"
      },
      "source": [
        "data.to_csv(\"result.csv\", index=False, mode='w')"
      ],
      "execution_count": 9,
      "outputs": []
    },
    {
      "cell_type": "markdown",
      "source": [
        "# Cross-Validted"
      ],
      "metadata": {
        "id": "e6iZXAqR-5oW"
      }
    },
    {
      "cell_type": "code",
      "source": [
        "from sklearn.model_selection import cross_val_score\n",
        "model_cv = cross_val_score(LR(), X_train, Y_train, cv=5)\n",
        "\n",
        "print(model_cv)\n",
        "print(model_cv.mean(), model_cv.std())\n"
      ],
      "metadata": {
        "id": "payLUEQL_Bbt",
        "outputId": "8dfb012d-a43f-4a7c-ca99-1a809eb68588",
        "colab": {
          "base_uri": "https://localhost:8080/"
        }
      },
      "execution_count": 10,
      "outputs": [
        {
          "output_type": "stream",
          "name": "stdout",
          "text": [
            "[0.64120447 0.88536669 0.90980771 0.8961349  0.97415038]\n",
            "0.8613328292604049 0.11430041180785552\n"
          ]
        }
      ]
    },
    {
      "cell_type": "markdown",
      "source": [
        "# K-fold"
      ],
      "metadata": {
        "id": "hKvoPx7TTG5L"
      }
    },
    {
      "cell_type": "code",
      "source": [
        "from sklearn.model_selection import KFold\n",
        "from sklearn.linear_model import Lasso\n",
        "kf = KFold(n_splits=2)\n",
        "for train, test in kf.split(X):\n",
        "    X_train, X_test, Y_train, Y_test = X[train], X[test], Y[train], Y[test]\n",
        "    reg = Lasso(alpha=0.1) # 其中可以調整 alpha 值決定正則化的強度\n",
        "    reg.fit(X_train, Y_train)\n",
        "    print(reg.coef_)"
      ],
      "metadata": {
        "id": "ZM0z4CNrPF9P",
        "outputId": "189eccfb-3032-4d50-d8a1-191bf68b62c5",
        "colab": {
          "base_uri": "https://localhost:8080/"
        }
      },
      "execution_count": 39,
      "outputs": [
        {
          "output_type": "stream",
          "name": "stdout",
          "text": [
            "[ 3.33223179e-01  1.22371766e-01  2.82795551e-02 -1.19597952e+04\n",
            "  1.96620349e+03]\n",
            "[ 7.76156199e-01 -8.44929316e-02  4.49765846e-02  6.40492338e+03\n",
            "  1.72039927e+03]\n"
          ]
        }
      ]
    },
    {
      "cell_type": "markdown",
      "source": [
        "# Lasso Fit"
      ],
      "metadata": {
        "id": "RxHzCWnG1iKU"
      }
    },
    {
      "cell_type": "code",
      "source": [
        "from sklearn.linear_model import Lasso\n",
        "reg = Lasso(alpha=0.1) # 其中可以調整 alpha 值決定正則化的強度\n",
        "reg.fit(X_train, Y_train)\n",
        "print(reg.coef_)"
      ],
      "metadata": {
        "id": "B_qNXjR21hKc",
        "outputId": "5ab88733-658a-45d4-dcc0-ac4a25f77c84",
        "colab": {
          "base_uri": "https://localhost:8080/"
        }
      },
      "execution_count": 11,
      "outputs": [
        {
          "output_type": "stream",
          "name": "stdout",
          "text": [
            "[ 0.00000000e+00  7.73471111e-01  3.28822328e-02  3.66089531e-02\n",
            " -6.98501401e+02 -1.65760589e+03]\n"
          ]
        }
      ]
    }
  ]
}
