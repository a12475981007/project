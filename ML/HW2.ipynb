{
  "nbformat": 4,
  "nbformat_minor": 0,
  "metadata": {
    "colab": {
      "provenance": [],
      "collapsed_sections": [],
      "toc_visible": true
    },
    "kernelspec": {
      "name": "python3",
      "display_name": "Python 3"
    },
    "language_info": {
      "name": "python"
    },
    "accelerator": "GPU"
  },
  "cells": [
    {
      "cell_type": "markdown",
      "source": [
        "# Q1. \n",
        "  ## a. 請至 Kaggle 找 titanic dataset \n",
        "  ## b. 使用 SVM 簡單套用 model = SVC()\n",
        "  ## c. 查看 confusion matrix and accuracy 指標"
      ],
      "metadata": {
        "id": "SNBi3JX-JvBd"
      }
    },
    {
      "cell_type": "code",
      "execution_count": null,
      "metadata": {
        "colab": {
          "base_uri": "https://localhost:8080/"
        },
        "id": "Okk8PEgm0HRB",
        "outputId": "e614fd99-9f30-4e0d-b88e-b7f73cfeddf7"
      },
      "outputs": [
        {
          "output_type": "stream",
          "name": "stdout",
          "text": [
            "============================================\n",
            "Test Data：\n",
            "--------------------------------------------\n",
            "Accuracy: 0.6256983240223464\n",
            "Confusion Matrix:\n",
            "[[106   4]\n",
            " [ 63   6]]\n",
            "============================================\n",
            "============================================\n",
            "Train Data：\n",
            "--------------------------------------------\n",
            "Accuracy: 0.6348314606741573\n",
            "Confusion Matrix:\n",
            "[[420  19]\n",
            " [241  32]]\n",
            "============================================\n"
          ]
        }
      ],
      "source": [
        "from sklearn.svm import SVC\n",
        "import pandas as pd\n",
        "import numpy as np\n",
        "from sklearn.model_selection import train_test_split\n",
        "from sklearn.metrics import confusion_matrix\n",
        "\n",
        "Train_Data = pd.read_csv(\"train.csv\")\n",
        "# Test_Data = pd.read_csv(\"test.csv\")\n",
        "\n",
        "# 填補年齡遺漏值\n",
        "Age_Median = np.nanmedian(Train_Data['Age'])\n",
        "New_Age_Data = np.where(Train_Data['Age'].isnull(), Age_Median, Train_Data['Age'])\n",
        "Train_Data['Age'] = New_Age_Data\n",
        "# print(New_Age_Data)\n",
        "\n",
        "Data = Train_Data[['Pclass', 'Age', 'Sex']]\n",
        "Data = pd.get_dummies(Data)\n",
        "# print(Data)\n",
        "\n",
        "Label = Train_Data['Survived']\n",
        "# print(Label)\n",
        "\n",
        "# 建立訓練與測試資料\n",
        "X_train, X_test, Y_train, Y_test = train_test_split(Data, Label, test_size = 0.2, random_state = 0) \n",
        "# print(X_train)\n",
        "\n",
        "model = SVC().fit(X_train, Y_train)\n",
        "\n",
        "Test_score = model.score(X_test, Y_test)\n",
        "Test_pred = model.predict(X_test)\n",
        "Test_matrix = confusion_matrix(Y_test, Test_pred)\n",
        "print(\"============================================\")\n",
        "print(\"Test Data：\")\n",
        "print(\"--------------------------------------------\")\n",
        "print(\"Accuracy:\", Test_score)\n",
        "print(\"Confusion Matrix:\")\n",
        "print(Test_matrix)\n",
        "print(\"============================================\")\n",
        "\n",
        "Train_score = model.score(X_train, Y_train)\n",
        "Train_pred = model.predict(X_train)\n",
        "Train_matrix = confusion_matrix(Y_train, Train_pred)\n",
        "print(\"============================================\")\n",
        "print(\"Train Data：\")\n",
        "print(\"--------------------------------------------\")\n",
        "print(\"Accuracy:\", Train_score)\n",
        "print(\"Confusion Matrix:\")\n",
        "print(Train_matrix)\n",
        "print(\"============================================\")\n"
      ]
    },
    {
      "cell_type": "markdown",
      "source": [
        "# Q2. \n",
        "  ## a. Iris data set 3 類\n",
        "  ## b. 使用 SVM 並劃出 boundary 簡單套用 model = SVC()\n",
        "  ## c. 查看 confusion matrix and accuracy 指標"
      ],
      "metadata": {
        "id": "cU3HG-QPXaZf"
      }
    },
    {
      "cell_type": "code",
      "source": [
        "from sklearn import datasets\n",
        "import matplotlib.pyplot as plt\n",
        "from mlxtend.plotting import plot_decision_regions\n",
        "from sklearn.svm import SVC\n",
        "\n",
        "iris = datasets.load_iris()\n",
        "X = iris.data[:, [0, 2]]\n",
        "y = iris.target\n",
        "\n",
        "model = SVC(kernel = 'linear')\n",
        "model.fit(X, y)\n",
        "\n",
        "plot_decision_regions(X, y, clf=model, legend=2)\n",
        "\n",
        "# Adding axes annotations\n",
        "plt.xlabel('sepal length [cm]')\n",
        "plt.ylabel('petal length [cm]')\n",
        "plt.title('Iris Classification')\n",
        "plt.show()\n",
        "\n",
        "X_train, X_test, Y_train, Y_test = train_test_split(X, y, test_size = 0.2, random_state = 0) \n",
        "Test_score = model.score(X_test, Y_test)\n",
        "Test_pred = model.predict(X_test)\n",
        "Test_matrix = confusion_matrix(Y_test, Test_pred)\n",
        "print(\"============================================\")\n",
        "print(\"Test Data：\")\n",
        "print(\"--------------------------------------------\")\n",
        "print(\"Accuracy:\", Test_score)\n",
        "print(\"Confusion Matrix:\")\n",
        "print(Test_matrix)\n",
        "print(\"============================================\")\n",
        "\n",
        "Train_score = model.score(X_train, Y_train)\n",
        "Train_pred = model.predict(X_train)\n",
        "Train_matrix = confusion_matrix(Y_train, Train_pred)\n",
        "print(\"============================================\")\n",
        "print(\"Train Data：\")\n",
        "print(\"--------------------------------------------\")\n",
        "print(\"Accuracy:\", Train_score)\n",
        "print(\"Confusion Matrix:\")\n",
        "print(Train_matrix)\n",
        "print(\"============================================\")"
      ],
      "metadata": {
        "colab": {
          "base_uri": "https://localhost:8080/",
          "height": 680
        },
        "id": "fxKBSx3d0qIX",
        "outputId": "bfd3079a-b338-428c-f233-68a7885e4e75"
      },
      "execution_count": null,
      "outputs": [
        {
          "output_type": "stream",
          "name": "stderr",
          "text": [
            "/usr/local/lib/python3.7/dist-packages/mlxtend/plotting/decision_regions.py:244: MatplotlibDeprecationWarning: Passing unsupported keyword arguments to axis() will raise a TypeError in 3.3.\n",
            "  ax.axis(xmin=xx.min(), xmax=xx.max(), y_min=yy.min(), y_max=yy.max())\n"
          ]
        },
        {
          "output_type": "display_data",
          "data": {
            "text/plain": [
              "<Figure size 432x288 with 1 Axes>"
            ],
            "image/png": "[encoded data removed]"
          },
          "metadata": {
            "needs_background": "light"
          }
        },
        {
          "output_type": "stream",
          "name": "stdout",
          "text": [
            "============================================\n",
            "Test Data：\n",
            "--------------------------------------------\n",
            "Accuracy: 0.9666666666666667\n",
            "Confusion Matrix:\n",
            "[[11  0  0]\n",
            " [ 0 13  0]\n",
            " [ 0  1  5]]\n",
            "============================================\n",
            "============================================\n",
            "Train Data：\n",
            "--------------------------------------------\n",
            "Accuracy: 0.95\n",
            "Confusion Matrix:\n",
            "[[39  0  0]\n",
            " [ 0 33  4]\n",
            " [ 0  2 42]]\n",
            "============================================\n"
          ]
        }
      ]
    },
    {
      "cell_type": "markdown",
      "source": [
        "# Q3. \n",
        "  ## a. Iris Dataset\n",
        "  ## b. 一對一法( one-verus-one, OVO SVMs )\n",
        "  ## c. 一對多法( one-verus-rest, OVR SVMs )"
      ],
      "metadata": {
        "id": "eapSR2C0bo-P"
      }
    },
    {
      "cell_type": "code",
      "source": [
        "from sklearn.multiclass import OneVsOneClassifier\n",
        "from sklearn.multiclass import OneVsRestClassifier\n",
        "\n",
        "X = iris.data\n",
        "y = iris.target\n",
        "\n",
        "X_train, X_test, Y_train, Y_test = train_test_split(X, y, test_size = 0.5, random_state = 0) \n",
        "\n",
        "svc_model = SVC()\n",
        "# one-versus-one model build\n",
        "ovo_model = OneVsOneClassifier(svc_model)\n",
        "ovo_model.fit(X_train, Y_train)\n",
        "# one-versus-rest model build\n",
        "ovr_model = OneVsRestClassifier(svc_model)\n",
        "ovr_model.fit(X_train, Y_train)\n",
        "\n",
        "ovo_score = ovo_model.score(X_test, Y_test)\n",
        "ovr_score = ovr_model.score(X_test, Y_test)\n",
        "\n",
        "ovo_Test_pred = ovo_model.predict(X_test)\n",
        "ovo_Test_matrix = confusion_matrix(Y_test, ovo_Test_pred)\n",
        "print(\"============================================\")\n",
        "print(\"one-versus-one(use test data)：\")\n",
        "print(\"--------------------------------------------\")\n",
        "print(\"Accuracy:\", ovo_score)\n",
        "print(\"Confusion Matrix:\")\n",
        "print(ovo_Test_matrix)\n",
        "print(\"============================================\")\n",
        "\n",
        "ovr_Test_pred = ovr_model.predict(X_test)\n",
        "ovr_Test_matrix = confusion_matrix(Y_test, ovr_Test_pred)\n",
        "print(\"============================================\")\n",
        "print(\"one-versus-rest(use test data)：\")\n",
        "print(\"--------------------------------------------\")\n",
        "print(\"Accuracy:\", ovr_score)\n",
        "print(\"Confusion Matrix:\")\n",
        "print(ovr_Test_matrix)\n",
        "print(\"============================================\")\n",
        "\n"
      ],
      "metadata": {
        "colab": {
          "base_uri": "https://localhost:8080/"
        },
        "id": "lI5sUU5gVeAO",
        "outputId": "f8564e9a-b208-4321-89a8-bac079ce1142"
      },
      "execution_count": null,
      "outputs": [
        {
          "output_type": "stream",
          "name": "stdout",
          "text": [
            "============================================\n",
            "one-versus-one(use test data)：\n",
            "--------------------------------------------\n",
            "Accuracy: 0.9466666666666667\n",
            "Confusion Matrix:\n",
            "[[21  0  0]\n",
            " [ 0 29  1]\n",
            " [ 0  3 21]]\n",
            "============================================\n",
            "============================================\n",
            "one-versus-rest(use test data)：\n",
            "--------------------------------------------\n",
            "Accuracy: 0.92\n",
            "Confusion Matrix:\n",
            "[[21  0  0]\n",
            " [ 0 29  1]\n",
            " [ 0  5 19]]\n",
            "============================================\n"
          ]
        }
      ]
    },
    {
      "cell_type": "markdown",
      "source": [
        "# Q4. \n",
        "  ## a. 進行 SVC 優化 (可進行超參數優化或是比對策略的優或)\n",
        "  ## b. 比對策略：OVR, OVO, DAG, hirachical\n",
        "  ## c. 超參數優化：Grid Search, meta-heurisitic, Optuna"
      ],
      "metadata": {
        "id": "hCFGD3GMMuh5"
      }
    },
    {
      "cell_type": "code",
      "source": [
        "pip install Optuna"
      ],
      "metadata": {
        "id": "-8y0QRDQATFT",
        "colab": {
          "base_uri": "https://localhost:8080/"
        },
        "outputId": "37b5907d-07b0-4d2f-fba0-56180cd9ccb1"
      },
      "execution_count": null,
      "outputs": [
        {
          "output_type": "stream",
          "name": "stdout",
          "text": [
            "Looking in indexes: https://pypi.org/simple, https://us-python.pkg.dev/colab-wheels/public/simple/\n",
            "Collecting Optuna\n",
            "  Downloading optuna-3.0.3-py3-none-any.whl (348 kB)\n",
            "\u001b[K     |████████████████████████████████| 348 kB 27.3 MB/s \n",
            "\u001b[?25hCollecting cmaes>=0.8.2\n",
            "  Downloading cmaes-0.9.0-py3-none-any.whl (23 kB)\n",
            "Requirement already satisfied: PyYAML in /usr/local/lib/python3.7/dist-packages (from Optuna) (6.0)\n",
            "Requirement already satisfied: numpy in /usr/local/lib/python3.7/dist-packages (from Optuna) (1.21.6)\n",
            "Requirement already satisfied: tqdm in /usr/local/lib/python3.7/dist-packages (from Optuna) (4.64.1)\n",
            "Requirement already satisfied: packaging>=20.0 in /usr/local/lib/python3.7/dist-packages (from Optuna) (21.3)\n",
            "Collecting alembic>=1.5.0\n",
            "  Downloading alembic-1.8.1-py3-none-any.whl (209 kB)\n",
            "\u001b[K     |████████████████████████████████| 209 kB 71.3 MB/s \n",
            "\u001b[?25hCollecting colorlog\n",
            "  Downloading colorlog-6.7.0-py2.py3-none-any.whl (11 kB)\n",
            "Requirement already satisfied: scipy<1.9.0,>=1.7.0 in /usr/local/lib/python3.7/dist-packages (from Optuna) (1.7.3)\n",
            "Requirement already satisfied: importlib-metadata<5.0.0 in /usr/local/lib/python3.7/dist-packages (from Optuna) (4.13.0)\n",
            "Requirement already satisfied: sqlalchemy>=1.3.0 in /usr/local/lib/python3.7/dist-packages (from Optuna) (1.4.42)\n",
            "Collecting cliff\n",
            "  Downloading cliff-3.10.1-py3-none-any.whl (81 kB)\n",
            "\u001b[K     |████████████████████████████████| 81 kB 10.4 MB/s \n",
            "\u001b[?25hCollecting Mako\n",
            "  Downloading Mako-1.2.3-py3-none-any.whl (78 kB)\n",
            "\u001b[K     |████████████████████████████████| 78 kB 8.5 MB/s \n",
            "\u001b[?25hRequirement already satisfied: importlib-resources in /usr/local/lib/python3.7/dist-packages (from alembic>=1.5.0->Optuna) (5.10.0)\n",
            "Requirement already satisfied: zipp>=0.5 in /usr/local/lib/python3.7/dist-packages (from importlib-metadata<5.0.0->Optuna) (3.10.0)\n",
            "Requirement already satisfied: typing-extensions>=3.6.4 in /usr/local/lib/python3.7/dist-packages (from importlib-metadata<5.0.0->Optuna) (4.1.1)\n",
            "Requirement already satisfied: pyparsing!=3.0.5,>=2.0.2 in /usr/local/lib/python3.7/dist-packages (from packaging>=20.0->Optuna) (3.0.9)\n",
            "Requirement already satisfied: greenlet!=0.4.17 in /usr/local/lib/python3.7/dist-packages (from sqlalchemy>=1.3.0->Optuna) (1.1.3.post0)\n",
            "Collecting autopage>=0.4.0\n",
            "  Downloading autopage-0.5.1-py3-none-any.whl (29 kB)\n",
            "Collecting stevedore>=2.0.1\n",
            "  Downloading stevedore-3.5.2-py3-none-any.whl (50 kB)\n",
            "\u001b[K     |████████████████████████████████| 50 kB 8.0 MB/s \n",
            "\u001b[?25hRequirement already satisfied: PrettyTable>=0.7.2 in /usr/local/lib/python3.7/dist-packages (from cliff->Optuna) (3.4.1)\n",
            "Collecting pbr!=2.1.0,>=2.0.0\n",
            "  Downloading pbr-5.11.0-py2.py3-none-any.whl (112 kB)\n",
            "\u001b[K     |████████████████████████████████| 112 kB 73.1 MB/s \n",
            "\u001b[?25hCollecting cmd2>=1.0.0\n",
            "  Downloading cmd2-2.4.2-py3-none-any.whl (147 kB)\n",
            "\u001b[K     |████████████████████████████████| 147 kB 77.6 MB/s \n",
            "\u001b[?25hRequirement already satisfied: attrs>=16.3.0 in /usr/local/lib/python3.7/dist-packages (from cmd2>=1.0.0->cliff->Optuna) (22.1.0)\n",
            "Collecting pyperclip>=1.6\n",
            "  Downloading pyperclip-1.8.2.tar.gz (20 kB)\n",
            "Requirement already satisfied: wcwidth>=0.1.7 in /usr/local/lib/python3.7/dist-packages (from cmd2>=1.0.0->cliff->Optuna) (0.2.5)\n",
            "Requirement already satisfied: MarkupSafe>=0.9.2 in /usr/local/lib/python3.7/dist-packages (from Mako->alembic>=1.5.0->Optuna) (2.0.1)\n",
            "Building wheels for collected packages: pyperclip\n",
            "  Building wheel for pyperclip (setup.py) ... \u001b[?25l\u001b[?25hdone\n",
            "  Created wheel for pyperclip: filename=pyperclip-1.8.2-py3-none-any.whl size=11137 sha256=331b4e8c6a7ac17b2ee41824fff5e034ea76a554e0a71c33a0df0b434f2fa7d0\n",
            "  Stored in directory: /root/.cache/pip/wheels/9f/18/84/8f69f8b08169c7bae2dde6bd7daf0c19fca8c8e500ee620a28\n",
            "Successfully built pyperclip\n",
            "Installing collected packages: pyperclip, pbr, stevedore, Mako, cmd2, autopage, colorlog, cmaes, cliff, alembic, Optuna\n",
            "Successfully installed Mako-1.2.3 Optuna-3.0.3 alembic-1.8.1 autopage-0.5.1 cliff-3.10.1 cmaes-0.9.0 cmd2-2.4.2 colorlog-6.7.0 pbr-5.11.0 pyperclip-1.8.2 stevedore-3.5.2\n"
          ]
        }
      ]
    },
    {
      "cell_type": "code",
      "source": [
        "import optuna\n",
        "import xgboost as xgb\n",
        "from sklearn.metrics import mean_squared_error\n",
        "from optuna.visualization import plot_param_importances\n",
        "from optuna.visualization import plot_optimization_history\n",
        "\n",
        "\n",
        "def objective(trial, X=X, y=y):\n",
        "\n",
        "  params = {\n",
        "      \"kernel\" :  trial.suggest_categorical(\"kernel\", [\"linear\", \"poly\", \"rbf\", \"sigmoid\"]),\n",
        "      \"C\" : trial.suggest_float(\"C\", 0.0, 10.0 ),\n",
        "      \"gamma\" : trial.suggest_float(\"gamma\", 0.0, 10.0 ),\n",
        "      \"degree\" : trial.suggest_int(\"degree\", 0, 5 )\n",
        "  }\n",
        "\n",
        "  clf = SVC(**params)\n",
        "  clf.fit(X_train, Y_train)\n",
        "  return clf.score(X_test, Y_test)\n",
        "\n",
        "X = iris.data\n",
        "y = iris.target\n",
        "\n",
        "X_train, X_test, Y_train, Y_test = train_test_split(X, y, test_size=0.5, random_state = 0)\n",
        "\n",
        "study = optuna.create_study(direction='maximize')\n",
        "study.optimize(objective, n_trials = 20)\n",
        "\n",
        "\n",
        "# Showing optimization results\n",
        "print('Number of finished trials:', len(study.trials))\n",
        "print('Best trial parameters:', study.best_trial.params)\n",
        "print('Best score:', study.best_value)\n",
        "\n",
        "plotly_config = {\"staticPlot\": True}\n",
        "fig = plot_optimization_history(study)\n",
        "fig.show(config=plotly_config)\n",
        "\n",
        "fig = plot_param_importances(study)\n",
        "fig.show(config=plotly_config)"
      ],
      "metadata": {
        "colab": {
          "base_uri": "https://localhost:8080/",
          "height": 1000
        },
        "id": "MExAYQmCDLGr",
        "outputId": "03e41851-6166-4fe1-c7f6-c7befcf8d875"
      },
      "execution_count": null,
      "outputs": [
        {
          "output_type": "stream",
          "name": "stderr",
          "text": [
            "\u001b[32m[I 2022-10-18 03:45:38,887]\u001b[0m A new study created in memory with name: no-name-8392e4f6-1e08-40d7-8014-10255edb724c\u001b[0m\n",
            "\u001b[32m[I 2022-10-18 03:45:38,898]\u001b[0m Trial 0 finished with value: 0.28 and parameters: {'kernel': 'poly', 'C': 0.08726298311241498, 'gamma': 6.001711008511599, 'degree': 0}. Best is trial 0 with value: 0.28.\u001b[0m\n",
            "\u001b[32m[I 2022-10-18 03:45:38,905]\u001b[0m Trial 1 finished with value: 0.9733333333333334 and parameters: {'kernel': 'linear', 'C': 2.6598624498003174, 'gamma': 0.5548007724533788, 'degree': 4}. Best is trial 1 with value: 0.9733333333333334.\u001b[0m\n",
            "\u001b[32m[I 2022-10-18 03:45:38,918]\u001b[0m Trial 2 finished with value: 0.9733333333333334 and parameters: {'kernel': 'rbf', 'C': 0.42980256665888006, 'gamma': 2.6913935088720264, 'degree': 4}. Best is trial 1 with value: 0.9733333333333334.\u001b[0m\n",
            "\u001b[32m[I 2022-10-18 03:45:38,927]\u001b[0m Trial 3 finished with value: 0.28 and parameters: {'kernel': 'sigmoid', 'C': 5.502572064402049, 'gamma': 8.064774730403245, 'degree': 2}. Best is trial 1 with value: 0.9733333333333334.\u001b[0m\n",
            "\u001b[32m[I 2022-10-18 03:45:38,934]\u001b[0m Trial 4 finished with value: 0.28 and parameters: {'kernel': 'sigmoid', 'C': 6.686574970441077, 'gamma': 7.342076093297619, 'degree': 4}. Best is trial 1 with value: 0.9733333333333334.\u001b[0m\n",
            "\u001b[32m[I 2022-10-18 03:45:38,942]\u001b[0m Trial 5 finished with value: 0.9333333333333333 and parameters: {'kernel': 'rbf', 'C': 0.5699808337550694, 'gamma': 5.9673799082506305, 'degree': 2}. Best is trial 1 with value: 0.9733333333333334.\u001b[0m\n",
            "\u001b[32m[I 2022-10-18 03:45:38,949]\u001b[0m Trial 6 finished with value: 0.28 and parameters: {'kernel': 'sigmoid', 'C': 1.7455104049070125, 'gamma': 3.980536262278055, 'degree': 3}. Best is trial 1 with value: 0.9733333333333334.\u001b[0m\n",
            "\u001b[32m[I 2022-10-18 03:45:38,956]\u001b[0m Trial 7 finished with value: 0.9466666666666667 and parameters: {'kernel': 'rbf', 'C': 1.0509070436070556, 'gamma': 4.774317566866468, 'degree': 1}. Best is trial 1 with value: 0.9733333333333334.\u001b[0m\n",
            "\u001b[32m[I 2022-10-18 03:45:38,962]\u001b[0m Trial 8 finished with value: 0.96 and parameters: {'kernel': 'poly', 'C': 1.4641459981882954, 'gamma': 2.405286767611093, 'degree': 1}. Best is trial 1 with value: 0.9733333333333334.\u001b[0m\n",
            "\u001b[32m[I 2022-10-18 03:45:38,969]\u001b[0m Trial 9 finished with value: 0.9733333333333334 and parameters: {'kernel': 'poly', 'C': 9.351550964246076, 'gamma': 5.606349098341921, 'degree': 4}. Best is trial 1 with value: 0.9733333333333334.\u001b[0m\n",
            "\u001b[32m[I 2022-10-18 03:45:38,994]\u001b[0m Trial 10 finished with value: 0.9466666666666667 and parameters: {'kernel': 'linear', 'C': 3.599767892885389, 'gamma': 0.06248034354485721, 'degree': 5}. Best is trial 1 with value: 0.9733333333333334.\u001b[0m\n",
            "\u001b[32m[I 2022-10-18 03:45:39,017]\u001b[0m Trial 11 finished with value: 0.9733333333333334 and parameters: {'kernel': 'linear', 'C': 3.361184988281299, 'gamma': 0.3841812967223367, 'degree': 5}. Best is trial 1 with value: 0.9733333333333334.\u001b[0m\n",
            "\u001b[32m[I 2022-10-18 03:45:39,033]\u001b[0m Trial 12 finished with value: 0.9733333333333334 and parameters: {'kernel': 'linear', 'C': 3.1140431006581766, 'gamma': 2.2250946836892087, 'degree': 4}. Best is trial 1 with value: 0.9733333333333334.\u001b[0m\n",
            "\u001b[32m[I 2022-10-18 03:45:39,053]\u001b[0m Trial 13 finished with value: 0.9066666666666666 and parameters: {'kernel': 'rbf', 'C': 2.389782572989798, 'gamma': 9.988018456019745, 'degree': 3}. Best is trial 1 with value: 0.9733333333333334.\u001b[0m\n",
            "\u001b[32m[I 2022-10-18 03:45:39,071]\u001b[0m Trial 14 finished with value: 0.92 and parameters: {'kernel': 'linear', 'C': 4.833141984724537, 'gamma': 2.684729947417887, 'degree': 4}. Best is trial 1 with value: 0.9733333333333334.\u001b[0m\n",
            "\u001b[32m[I 2022-10-18 03:45:39,090]\u001b[0m Trial 15 finished with value: 0.9333333333333333 and parameters: {'kernel': 'rbf', 'C': 5.072997367528274, 'gamma': 0.9446425403740495, 'degree': 5}. Best is trial 1 with value: 0.9733333333333334.\u001b[0m\n",
            "\u001b[32m[I 2022-10-18 03:45:39,109]\u001b[0m Trial 16 finished with value: 0.92 and parameters: {'kernel': 'linear', 'C': 7.507654192286127, 'gamma': 1.671185237175476, 'degree': 3}. Best is trial 1 with value: 0.9733333333333334.\u001b[0m\n",
            "\u001b[32m[I 2022-10-18 03:45:39,126]\u001b[0m Trial 17 finished with value: 0.96 and parameters: {'kernel': 'rbf', 'C': 2.3835134331787398, 'gamma': 3.6939066716709954, 'degree': 4}. Best is trial 1 with value: 0.9733333333333334.\u001b[0m\n",
            "\u001b[32m[I 2022-10-18 03:45:39,151]\u001b[0m Trial 18 finished with value: 0.92 and parameters: {'kernel': 'linear', 'C': 4.138484126546732, 'gamma': 1.393605735099785, 'degree': 5}. Best is trial 1 with value: 0.9733333333333334.\u001b[0m\n",
            "\u001b[32m[I 2022-10-18 03:45:39,172]\u001b[0m Trial 19 finished with value: 0.9733333333333334 and parameters: {'kernel': 'poly', 'C': 9.878929773401289, 'gamma': 6.046158073441705, 'degree': 3}. Best is trial 1 with value: 0.9733333333333334.\u001b[0m\n"
          ]
        },
        {
          "output_type": "stream",
          "name": "stdout",
          "text": [
            "Number of finished trials: 20\n",
            "Best trial parameters: {'kernel': 'linear', 'C': 2.6598624498003174, 'gamma': 0.5548007724533788, 'degree': 4}\n",
            "Best score: 0.9733333333333334\n"
          ]
        },
        {
          "output_type": "display_data",
          "data": {
            "text/html": [
              "<html>\n",
              "<head><meta charset=\"utf-8\" /></head>\n",
              "<body>\n",
              "    <div>            <script src=\"https://cdnjs.cloudflare.com/ajax/libs/mathjax/2.7.5/MathJax.js?config=TeX-AMS-MML_SVG\"></script><script type=\"text/javascript\">if (window.MathJax) {MathJax.Hub.Config({SVG: {font: \"STIX-Web\"}});}</script>                <script type=\"text/javascript\">window.PlotlyConfig = {MathJaxConfig: 'local'};</script>\n",
              "        <script src=\"https://cdn.plot.ly/plotly-2.8.3.min.js\"></script>                <div id=\"fa78dd36-d5e3-41aa-a8a0-789bf779607d\" class=\"plotly-graph-div\" style=\"height:525px; width:100%;\"></div>            <script type=\"text/javascript\">                                    window.PLOTLYENV=window.PLOTLYENV || {};                                    if (document.getElementById(\"fa78dd36-d5e3-41aa-a8a0-789bf779607d\")) {                    Plotly.newPlot(                        \"fa78dd36-d5e3-41aa-a8a0-789bf779607d\",                        [{\"mode\":\"markers\",\"name\":\"Objective Value\",\"x\":[0,1,2,3,4,5,6,7,8,9,10,11,12,13,14,15,16,17,18,19],\"y\":[0.28,0.9733333333333334,0.9733333333333334,0.28,0.28,0.9333333333333333,0.28,0.9466666666666667,0.96,0.9733333333333334,0.9466666666666667,0.9733333333333334,0.9733333333333334,0.9066666666666666,0.92,0.9333333333333333,0.92,0.96,0.92,0.9733333333333334],\"type\":\"scatter\"},{\"name\":\"Best Value\",\"x\":[0,1,2,3,4,5,6,7,8,9,10,11,12,13,14,15,16,17,18,19],\"y\":[0.28,0.9733333333333334,0.9733333333333334,0.9733333333333334,0.9733333333333334,0.9733333333333334,0.9733333333333334,0.9733333333333334,0.9733333333333334,0.9733333333333334,0.9733333333333334,0.9733333333333334,0.9733333333333334,0.9733333333333334,0.9733333333333334,0.9733333333333334,0.9733333333333334,0.9733333333333334,0.9733333333333334,0.9733333333333334],\"type\":\"scatter\"}],                        {\"title\":{\"text\":\"Optimization History Plot\"},\"xaxis\":{\"title\":{\"text\":\"Trial\"}},\"yaxis\":{\"title\":{\"text\":\"Objective Value\"}},\"template\":{\"data\":{\"bar\":[{\"error_x\":{\"color\":\"#2a3f5f\"},\"error_y\":{\"color\":\"#2a3f5f\"},\"marker\":{\"line\":{\"color\":\"#E5ECF6\",\"width\":0.5},\"pattern\":{\"fillmode\":\"overlay\",\"size\":10,\"solidity\":0.2}},\"type\":\"bar\"}],\"barpolar\":[{\"marker\":{\"line\":{\"color\":\"#E5ECF6\",\"width\":0.5},\"pattern\":{\"fillmode\":\"overlay\",\"size\":10,\"solidity\":0.2}},\"type\":\"barpolar\"}],\"carpet\":[{\"aaxis\":{\"endlinecolor\":\"#2a3f5f\",\"gridcolor\":\"white\",\"linecolor\":\"white\",\"minorgridcolor\":\"white\",\"startlinecolor\":\"#2a3f5f\"},\"baxis\":{\"endlinecolor\":\"#2a3f5f\",\"gridcolor\":\"white\",\"linecolor\":\"white\",\"minorgridcolor\":\"white\",\"startlinecolor\":\"#2a3f5f\"},\"type\":\"carpet\"}],\"choropleth\":[{\"colorbar\":{\"outlinewidth\":0,\"ticks\":\"\"},\"type\":\"choropleth\"}],\"contour\":[{\"colorbar\":{\"outlinewidth\":0,\"ticks\":\"\"},\"colorscale\":[[0.0,\"#0d0887\"],[0.1111111111111111,\"#46039f\"],[0.2222222222222222,\"#7201a8\"],[0.3333333333333333,\"#9c179e\"],[0.4444444444444444,\"#bd3786\"],[0.5555555555555556,\"#d8576b\"],[0.6666666666666666,\"#ed7953\"],[0.7777777777777778,\"#fb9f3a\"],[0.8888888888888888,\"#fdca26\"],[1.0,\"#f0f921\"]],\"type\":\"contour\"}],\"contourcarpet\":[{\"colorbar\":{\"outlinewidth\":0,\"ticks\":\"\"},\"type\":\"contourcarpet\"}],\"heatmap\":[{\"colorbar\":{\"outlinewidth\":0,\"ticks\":\"\"},\"colorscale\":[[0.0,\"#0d0887\"],[0.1111111111111111,\"#46039f\"],[0.2222222222222222,\"#7201a8\"],[0.3333333333333333,\"#9c179e\"],[0.4444444444444444,\"#bd3786\"],[0.5555555555555556,\"#d8576b\"],[0.6666666666666666,\"#ed7953\"],[0.7777777777777778,\"#fb9f3a\"],[0.8888888888888888,\"#fdca26\"],[1.0,\"#f0f921\"]],\"type\":\"heatmap\"}],\"heatmapgl\":[{\"colorbar\":{\"outlinewidth\":0,\"ticks\":\"\"},\"colorscale\":[[0.0,\"#0d0887\"],[0.1111111111111111,\"#46039f\"],[0.2222222222222222,\"#7201a8\"],[0.3333333333333333,\"#9c179e\"],[0.4444444444444444,\"#bd3786\"],[0.5555555555555556,\"#d8576b\"],[0.6666666666666666,\"#ed7953\"],[0.7777777777777778,\"#fb9f3a\"],[0.8888888888888888,\"#fdca26\"],[1.0,\"#f0f921\"]],\"type\":\"heatmapgl\"}],\"histogram\":[{\"marker\":{\"pattern\":{\"fillmode\":\"overlay\",\"size\":10,\"solidity\":0.2}},\"type\":\"histogram\"}],\"histogram2d\":[{\"colorbar\":{\"outlinewidth\":0,\"ticks\":\"\"},\"colorscale\":[[0.0,\"#0d0887\"],[0.1111111111111111,\"#46039f\"],[0.2222222222222222,\"#7201a8\"],[0.3333333333333333,\"#9c179e\"],[0.4444444444444444,\"#bd3786\"],[0.5555555555555556,\"#d8576b\"],[0.6666666666666666,\"#ed7953\"],[0.7777777777777778,\"#fb9f3a\"],[0.8888888888888888,\"#fdca26\"],[1.0,\"#f0f921\"]],\"type\":\"histogram2d\"}],\"histogram2dcontour\":[{\"colorbar\":{\"outlinewidth\":0,\"ticks\":\"\"},\"colorscale\":[[0.0,\"#0d0887\"],[0.1111111111111111,\"#46039f\"],[0.2222222222222222,\"#7201a8\"],[0.3333333333333333,\"#9c179e\"],[0.4444444444444444,\"#bd3786\"],[0.5555555555555556,\"#d8576b\"],[0.6666666666666666,\"#ed7953\"],[0.7777777777777778,\"#fb9f3a\"],[0.8888888888888888,\"#fdca26\"],[1.0,\"#f0f921\"]],\"type\":\"histogram2dcontour\"}],\"mesh3d\":[{\"colorbar\":{\"outlinewidth\":0,\"ticks\":\"\"},\"type\":\"mesh3d\"}],\"parcoords\":[{\"line\":{\"colorbar\":{\"outlinewidth\":0,\"ticks\":\"\"}},\"type\":\"parcoords\"}],\"pie\":[{\"automargin\":true,\"type\":\"pie\"}],\"scatter\":[{\"marker\":{\"colorbar\":{\"outlinewidth\":0,\"ticks\":\"\"}},\"type\":\"scatter\"}],\"scatter3d\":[{\"line\":{\"colorbar\":{\"outlinewidth\":0,\"ticks\":\"\"}},\"marker\":{\"colorbar\":{\"outlinewidth\":0,\"ticks\":\"\"}},\"type\":\"scatter3d\"}],\"scattercarpet\":[{\"marker\":{\"colorbar\":{\"outlinewidth\":0,\"ticks\":\"\"}},\"type\":\"scattercarpet\"}],\"scattergeo\":[{\"marker\":{\"colorbar\":{\"outlinewidth\":0,\"ticks\":\"\"}},\"type\":\"scattergeo\"}],\"scattergl\":[{\"marker\":{\"colorbar\":{\"outlinewidth\":0,\"ticks\":\"\"}},\"type\":\"scattergl\"}],\"scattermapbox\":[{\"marker\":{\"colorbar\":{\"outlinewidth\":0,\"ticks\":\"\"}},\"type\":\"scattermapbox\"}],\"scatterpolar\":[{\"marker\":{\"colorbar\":{\"outlinewidth\":0,\"ticks\":\"\"}},\"type\":\"scatterpolar\"}],\"scatterpolargl\":[{\"marker\":{\"colorbar\":{\"outlinewidth\":0,\"ticks\":\"\"}},\"type\":\"scatterpolargl\"}],\"scatterternary\":[{\"marker\":{\"colorbar\":{\"outlinewidth\":0,\"ticks\":\"\"}},\"type\":\"scatterternary\"}],\"surface\":[{\"colorbar\":{\"outlinewidth\":0,\"ticks\":\"\"},\"colorscale\":[[0.0,\"#0d0887\"],[0.1111111111111111,\"#46039f\"],[0.2222222222222222,\"#7201a8\"],[0.3333333333333333,\"#9c179e\"],[0.4444444444444444,\"#bd3786\"],[0.5555555555555556,\"#d8576b\"],[0.6666666666666666,\"#ed7953\"],[0.7777777777777778,\"#fb9f3a\"],[0.8888888888888888,\"#fdca26\"],[1.0,\"#f0f921\"]],\"type\":\"surface\"}],\"table\":[{\"cells\":{\"fill\":{\"color\":\"#EBF0F8\"},\"line\":{\"color\":\"white\"}},\"header\":{\"fill\":{\"color\":\"#C8D4E3\"},\"line\":{\"color\":\"white\"}},\"type\":\"table\"}]},\"layout\":{\"annotationdefaults\":{\"arrowcolor\":\"#2a3f5f\",\"arrowhead\":0,\"arrowwidth\":1},\"autotypenumbers\":\"strict\",\"coloraxis\":{\"colorbar\":{\"outlinewidth\":0,\"ticks\":\"\"}},\"colorscale\":{\"diverging\":[[0,\"#8e0152\"],[0.1,\"#c51b7d\"],[0.2,\"#de77ae\"],[0.3,\"#f1b6da\"],[0.4,\"#fde0ef\"],[0.5,\"#f7f7f7\"],[0.6,\"#e6f5d0\"],[0.7,\"#b8e186\"],[0.8,\"#7fbc41\"],[0.9,\"#4d9221\"],[1,\"#276419\"]],\"sequential\":[[0.0,\"#0d0887\"],[0.1111111111111111,\"#46039f\"],[0.2222222222222222,\"#7201a8\"],[0.3333333333333333,\"#9c179e\"],[0.4444444444444444,\"#bd3786\"],[0.5555555555555556,\"#d8576b\"],[0.6666666666666666,\"#ed7953\"],[0.7777777777777778,\"#fb9f3a\"],[0.8888888888888888,\"#fdca26\"],[1.0,\"#f0f921\"]],\"sequentialminus\":[[0.0,\"#0d0887\"],[0.1111111111111111,\"#46039f\"],[0.2222222222222222,\"#7201a8\"],[0.3333333333333333,\"#9c179e\"],[0.4444444444444444,\"#bd3786\"],[0.5555555555555556,\"#d8576b\"],[0.6666666666666666,\"#ed7953\"],[0.7777777777777778,\"#fb9f3a\"],[0.8888888888888888,\"#fdca26\"],[1.0,\"#f0f921\"]]},\"colorway\":[\"#636efa\",\"#EF553B\",\"#00cc96\",\"#ab63fa\",\"#FFA15A\",\"#19d3f3\",\"#FF6692\",\"#B6E880\",\"#FF97FF\",\"#FECB52\"],\"font\":{\"color\":\"#2a3f5f\"},\"geo\":{\"bgcolor\":\"white\",\"lakecolor\":\"white\",\"landcolor\":\"#E5ECF6\",\"showlakes\":true,\"showland\":true,\"subunitcolor\":\"white\"},\"hoverlabel\":{\"align\":\"left\"},\"hovermode\":\"closest\",\"mapbox\":{\"style\":\"light\"},\"paper_bgcolor\":\"white\",\"plot_bgcolor\":\"#E5ECF6\",\"polar\":{\"angularaxis\":{\"gridcolor\":\"white\",\"linecolor\":\"white\",\"ticks\":\"\"},\"bgcolor\":\"#E5ECF6\",\"radialaxis\":{\"gridcolor\":\"white\",\"linecolor\":\"white\",\"ticks\":\"\"}},\"scene\":{\"xaxis\":{\"backgroundcolor\":\"#E5ECF6\",\"gridcolor\":\"white\",\"gridwidth\":2,\"linecolor\":\"white\",\"showbackground\":true,\"ticks\":\"\",\"zerolinecolor\":\"white\"},\"yaxis\":{\"backgroundcolor\":\"#E5ECF6\",\"gridcolor\":\"white\",\"gridwidth\":2,\"linecolor\":\"white\",\"showbackground\":true,\"ticks\":\"\",\"zerolinecolor\":\"white\"},\"zaxis\":{\"backgroundcolor\":\"#E5ECF6\",\"gridcolor\":\"white\",\"gridwidth\":2,\"linecolor\":\"white\",\"showbackground\":true,\"ticks\":\"\",\"zerolinecolor\":\"white\"}},\"shapedefaults\":{\"line\":{\"color\":\"#2a3f5f\"}},\"ternary\":{\"aaxis\":{\"gridcolor\":\"white\",\"linecolor\":\"white\",\"ticks\":\"\"},\"baxis\":{\"gridcolor\":\"white\",\"linecolor\":\"white\",\"ticks\":\"\"},\"bgcolor\":\"#E5ECF6\",\"caxis\":{\"gridcolor\":\"white\",\"linecolor\":\"white\",\"ticks\":\"\"}},\"title\":{\"x\":0.05},\"xaxis\":{\"automargin\":true,\"gridcolor\":\"white\",\"linecolor\":\"white\",\"ticks\":\"\",\"title\":{\"standoff\":15},\"zerolinecolor\":\"white\",\"zerolinewidth\":2},\"yaxis\":{\"automargin\":true,\"gridcolor\":\"white\",\"linecolor\":\"white\",\"ticks\":\"\",\"title\":{\"standoff\":15},\"zerolinecolor\":\"white\",\"zerolinewidth\":2}}}},                        {\"staticPlot\": true, \"responsive\": true}                    ).then(function(){\n",
              "                            \n",
              "var gd = document.getElementById('fa78dd36-d5e3-41aa-a8a0-789bf779607d');\n",
              "var x = new MutationObserver(function (mutations, observer) {{\n",
              "        var display = window.getComputedStyle(gd).display;\n",
              "        if (!display || display === 'none') {{\n",
              "            console.log([gd, 'removed!']);\n",
              "            Plotly.purge(gd);\n",
              "            observer.disconnect();\n",
              "        }}\n",
              "}});\n",
              "\n",
              "// Listen for the removal of the full notebook cells\n",
              "var notebookContainer = gd.closest('#notebook-container');\n",
              "if (notebookContainer) {{\n",
              "    x.observe(notebookContainer, {childList: true});\n",
              "}}\n",
              "\n",
              "// Listen for the clearing of the current output cell\n",
              "var outputEl = gd.closest('.output');\n",
              "if (outputEl) {{\n",
              "    x.observe(outputEl, {childList: true});\n",
              "}}\n",
              "\n",
              "                        })                };                            </script>        </div>\n",
              "</body>\n",
              "</html>"
            ]
          },
          "metadata": {}
        },
        {
          "output_type": "display_data",
          "data": {
            "text/html": [
              "<html>\n",
              "<head><meta charset=\"utf-8\" /></head>\n",
              "<body>\n",
              "    <div>            <script src=\"https://cdnjs.cloudflare.com/ajax/libs/mathjax/2.7.5/MathJax.js?config=TeX-AMS-MML_SVG\"></script><script type=\"text/javascript\">if (window.MathJax) {MathJax.Hub.Config({SVG: {font: \"STIX-Web\"}});}</script>                <script type=\"text/javascript\">window.PlotlyConfig = {MathJaxConfig: 'local'};</script>\n",
              "        <script src=\"https://cdn.plot.ly/plotly-2.8.3.min.js\"></script>                <div id=\"8a350695-ca14-4ee4-b4d3-14553de837d5\" class=\"plotly-graph-div\" style=\"height:525px; width:100%;\"></div>            <script type=\"text/javascript\">                                    window.PLOTLYENV=window.PLOTLYENV || {};                                    if (document.getElementById(\"8a350695-ca14-4ee4-b4d3-14553de837d5\")) {                    Plotly.newPlot(                        \"8a350695-ca14-4ee4-b4d3-14553de837d5\",                        [{\"cliponaxis\":false,\"hovertemplate\":[\"C (FloatDistribution): 0.030581319931413095<extra></extra>\",\"degree (IntDistribution): 0.050383959978663684<extra></extra>\",\"gamma (FloatDistribution): 0.18413004842562378<extra></extra>\",\"kernel (CategoricalDistribution): 0.7349046716642995<extra></extra>\"],\"marker\":{\"color\":\"rgb(66,146,198)\"},\"orientation\":\"h\",\"text\":[\"0.03\",\"0.05\",\"0.18\",\"0.73\"],\"textposition\":\"outside\",\"x\":[0.030581319931413095,0.050383959978663684,0.18413004842562378,0.7349046716642995],\"y\":[\"C\",\"degree\",\"gamma\",\"kernel\"],\"type\":\"bar\"}],                        {\"showlegend\":false,\"title\":{\"text\":\"Hyperparameter Importances\"},\"xaxis\":{\"title\":{\"text\":\"Importance for Objective Value\"}},\"yaxis\":{\"title\":{\"text\":\"Hyperparameter\"}},\"template\":{\"data\":{\"bar\":[{\"error_x\":{\"color\":\"#2a3f5f\"},\"error_y\":{\"color\":\"#2a3f5f\"},\"marker\":{\"line\":{\"color\":\"#E5ECF6\",\"width\":0.5},\"pattern\":{\"fillmode\":\"overlay\",\"size\":10,\"solidity\":0.2}},\"type\":\"bar\"}],\"barpolar\":[{\"marker\":{\"line\":{\"color\":\"#E5ECF6\",\"width\":0.5},\"pattern\":{\"fillmode\":\"overlay\",\"size\":10,\"solidity\":0.2}},\"type\":\"barpolar\"}],\"carpet\":[{\"aaxis\":{\"endlinecolor\":\"#2a3f5f\",\"gridcolor\":\"white\",\"linecolor\":\"white\",\"minorgridcolor\":\"white\",\"startlinecolor\":\"#2a3f5f\"},\"baxis\":{\"endlinecolor\":\"#2a3f5f\",\"gridcolor\":\"white\",\"linecolor\":\"white\",\"minorgridcolor\":\"white\",\"startlinecolor\":\"#2a3f5f\"},\"type\":\"carpet\"}],\"choropleth\":[{\"colorbar\":{\"outlinewidth\":0,\"ticks\":\"\"},\"type\":\"choropleth\"}],\"contour\":[{\"colorbar\":{\"outlinewidth\":0,\"ticks\":\"\"},\"colorscale\":[[0.0,\"#0d0887\"],[0.1111111111111111,\"#46039f\"],[0.2222222222222222,\"#7201a8\"],[0.3333333333333333,\"#9c179e\"],[0.4444444444444444,\"#bd3786\"],[0.5555555555555556,\"#d8576b\"],[0.6666666666666666,\"#ed7953\"],[0.7777777777777778,\"#fb9f3a\"],[0.8888888888888888,\"#fdca26\"],[1.0,\"#f0f921\"]],\"type\":\"contour\"}],\"contourcarpet\":[{\"colorbar\":{\"outlinewidth\":0,\"ticks\":\"\"},\"type\":\"contourcarpet\"}],\"heatmap\":[{\"colorbar\":{\"outlinewidth\":0,\"ticks\":\"\"},\"colorscale\":[[0.0,\"#0d0887\"],[0.1111111111111111,\"#46039f\"],[0.2222222222222222,\"#7201a8\"],[0.3333333333333333,\"#9c179e\"],[0.4444444444444444,\"#bd3786\"],[0.5555555555555556,\"#d8576b\"],[0.6666666666666666,\"#ed7953\"],[0.7777777777777778,\"#fb9f3a\"],[0.8888888888888888,\"#fdca26\"],[1.0,\"#f0f921\"]],\"type\":\"heatmap\"}],\"heatmapgl\":[{\"colorbar\":{\"outlinewidth\":0,\"ticks\":\"\"},\"colorscale\":[[0.0,\"#0d0887\"],[0.1111111111111111,\"#46039f\"],[0.2222222222222222,\"#7201a8\"],[0.3333333333333333,\"#9c179e\"],[0.4444444444444444,\"#bd3786\"],[0.5555555555555556,\"#d8576b\"],[0.6666666666666666,\"#ed7953\"],[0.7777777777777778,\"#fb9f3a\"],[0.8888888888888888,\"#fdca26\"],[1.0,\"#f0f921\"]],\"type\":\"heatmapgl\"}],\"histogram\":[{\"marker\":{\"pattern\":{\"fillmode\":\"overlay\",\"size\":10,\"solidity\":0.2}},\"type\":\"histogram\"}],\"histogram2d\":[{\"colorbar\":{\"outlinewidth\":0,\"ticks\":\"\"},\"colorscale\":[[0.0,\"#0d0887\"],[0.1111111111111111,\"#46039f\"],[0.2222222222222222,\"#7201a8\"],[0.3333333333333333,\"#9c179e\"],[0.4444444444444444,\"#bd3786\"],[0.5555555555555556,\"#d8576b\"],[0.6666666666666666,\"#ed7953\"],[0.7777777777777778,\"#fb9f3a\"],[0.8888888888888888,\"#fdca26\"],[1.0,\"#f0f921\"]],\"type\":\"histogram2d\"}],\"histogram2dcontour\":[{\"colorbar\":{\"outlinewidth\":0,\"ticks\":\"\"},\"colorscale\":[[0.0,\"#0d0887\"],[0.1111111111111111,\"#46039f\"],[0.2222222222222222,\"#7201a8\"],[0.3333333333333333,\"#9c179e\"],[0.4444444444444444,\"#bd3786\"],[0.5555555555555556,\"#d8576b\"],[0.6666666666666666,\"#ed7953\"],[0.7777777777777778,\"#fb9f3a\"],[0.8888888888888888,\"#fdca26\"],[1.0,\"#f0f921\"]],\"type\":\"histogram2dcontour\"}],\"mesh3d\":[{\"colorbar\":{\"outlinewidth\":0,\"ticks\":\"\"},\"type\":\"mesh3d\"}],\"parcoords\":[{\"line\":{\"colorbar\":{\"outlinewidth\":0,\"ticks\":\"\"}},\"type\":\"parcoords\"}],\"pie\":[{\"automargin\":true,\"type\":\"pie\"}],\"scatter\":[{\"marker\":{\"colorbar\":{\"outlinewidth\":0,\"ticks\":\"\"}},\"type\":\"scatter\"}],\"scatter3d\":[{\"line\":{\"colorbar\":{\"outlinewidth\":0,\"ticks\":\"\"}},\"marker\":{\"colorbar\":{\"outlinewidth\":0,\"ticks\":\"\"}},\"type\":\"scatter3d\"}],\"scattercarpet\":[{\"marker\":{\"colorbar\":{\"outlinewidth\":0,\"ticks\":\"\"}},\"type\":\"scattercarpet\"}],\"scattergeo\":[{\"marker\":{\"colorbar\":{\"outlinewidth\":0,\"ticks\":\"\"}},\"type\":\"scattergeo\"}],\"scattergl\":[{\"marker\":{\"colorbar\":{\"outlinewidth\":0,\"ticks\":\"\"}},\"type\":\"scattergl\"}],\"scattermapbox\":[{\"marker\":{\"colorbar\":{\"outlinewidth\":0,\"ticks\":\"\"}},\"type\":\"scattermapbox\"}],\"scatterpolar\":[{\"marker\":{\"colorbar\":{\"outlinewidth\":0,\"ticks\":\"\"}},\"type\":\"scatterpolar\"}],\"scatterpolargl\":[{\"marker\":{\"colorbar\":{\"outlinewidth\":0,\"ticks\":\"\"}},\"type\":\"scatterpolargl\"}],\"scatterternary\":[{\"marker\":{\"colorbar\":{\"outlinewidth\":0,\"ticks\":\"\"}},\"type\":\"scatterternary\"}],\"surface\":[{\"colorbar\":{\"outlinewidth\":0,\"ticks\":\"\"},\"colorscale\":[[0.0,\"#0d0887\"],[0.1111111111111111,\"#46039f\"],[0.2222222222222222,\"#7201a8\"],[0.3333333333333333,\"#9c179e\"],[0.4444444444444444,\"#bd3786\"],[0.5555555555555556,\"#d8576b\"],[0.6666666666666666,\"#ed7953\"],[0.7777777777777778,\"#fb9f3a\"],[0.8888888888888888,\"#fdca26\"],[1.0,\"#f0f921\"]],\"type\":\"surface\"}],\"table\":[{\"cells\":{\"fill\":{\"color\":\"#EBF0F8\"},\"line\":{\"color\":\"white\"}},\"header\":{\"fill\":{\"color\":\"#C8D4E3\"},\"line\":{\"color\":\"white\"}},\"type\":\"table\"}]},\"layout\":{\"annotationdefaults\":{\"arrowcolor\":\"#2a3f5f\",\"arrowhead\":0,\"arrowwidth\":1},\"autotypenumbers\":\"strict\",\"coloraxis\":{\"colorbar\":{\"outlinewidth\":0,\"ticks\":\"\"}},\"colorscale\":{\"diverging\":[[0,\"#8e0152\"],[0.1,\"#c51b7d\"],[0.2,\"#de77ae\"],[0.3,\"#f1b6da\"],[0.4,\"#fde0ef\"],[0.5,\"#f7f7f7\"],[0.6,\"#e6f5d0\"],[0.7,\"#b8e186\"],[0.8,\"#7fbc41\"],[0.9,\"#4d9221\"],[1,\"#276419\"]],\"sequential\":[[0.0,\"#0d0887\"],[0.1111111111111111,\"#46039f\"],[0.2222222222222222,\"#7201a8\"],[0.3333333333333333,\"#9c179e\"],[0.4444444444444444,\"#bd3786\"],[0.5555555555555556,\"#d8576b\"],[0.6666666666666666,\"#ed7953\"],[0.7777777777777778,\"#fb9f3a\"],[0.8888888888888888,\"#fdca26\"],[1.0,\"#f0f921\"]],\"sequentialminus\":[[0.0,\"#0d0887\"],[0.1111111111111111,\"#46039f\"],[0.2222222222222222,\"#7201a8\"],[0.3333333333333333,\"#9c179e\"],[0.4444444444444444,\"#bd3786\"],[0.5555555555555556,\"#d8576b\"],[0.6666666666666666,\"#ed7953\"],[0.7777777777777778,\"#fb9f3a\"],[0.8888888888888888,\"#fdca26\"],[1.0,\"#f0f921\"]]},\"colorway\":[\"#636efa\",\"#EF553B\",\"#00cc96\",\"#ab63fa\",\"#FFA15A\",\"#19d3f3\",\"#FF6692\",\"#B6E880\",\"#FF97FF\",\"#FECB52\"],\"font\":{\"color\":\"#2a3f5f\"},\"geo\":{\"bgcolor\":\"white\",\"lakecolor\":\"white\",\"landcolor\":\"#E5ECF6\",\"showlakes\":true,\"showland\":true,\"subunitcolor\":\"white\"},\"hoverlabel\":{\"align\":\"left\"},\"hovermode\":\"closest\",\"mapbox\":{\"style\":\"light\"},\"paper_bgcolor\":\"white\",\"plot_bgcolor\":\"#E5ECF6\",\"polar\":{\"angularaxis\":{\"gridcolor\":\"white\",\"linecolor\":\"white\",\"ticks\":\"\"},\"bgcolor\":\"#E5ECF6\",\"radialaxis\":{\"gridcolor\":\"white\",\"linecolor\":\"white\",\"ticks\":\"\"}},\"scene\":{\"xaxis\":{\"backgroundcolor\":\"#E5ECF6\",\"gridcolor\":\"white\",\"gridwidth\":2,\"linecolor\":\"white\",\"showbackground\":true,\"ticks\":\"\",\"zerolinecolor\":\"white\"},\"yaxis\":{\"backgroundcolor\":\"#E5ECF6\",\"gridcolor\":\"white\",\"gridwidth\":2,\"linecolor\":\"white\",\"showbackground\":true,\"ticks\":\"\",\"zerolinecolor\":\"white\"},\"zaxis\":{\"backgroundcolor\":\"#E5ECF6\",\"gridcolor\":\"white\",\"gridwidth\":2,\"linecolor\":\"white\",\"showbackground\":true,\"ticks\":\"\",\"zerolinecolor\":\"white\"}},\"shapedefaults\":{\"line\":{\"color\":\"#2a3f5f\"}},\"ternary\":{\"aaxis\":{\"gridcolor\":\"white\",\"linecolor\":\"white\",\"ticks\":\"\"},\"baxis\":{\"gridcolor\":\"white\",\"linecolor\":\"white\",\"ticks\":\"\"},\"bgcolor\":\"#E5ECF6\",\"caxis\":{\"gridcolor\":\"white\",\"linecolor\":\"white\",\"ticks\":\"\"}},\"title\":{\"x\":0.05},\"xaxis\":{\"automargin\":true,\"gridcolor\":\"white\",\"linecolor\":\"white\",\"ticks\":\"\",\"title\":{\"standoff\":15},\"zerolinecolor\":\"white\",\"zerolinewidth\":2},\"yaxis\":{\"automargin\":true,\"gridcolor\":\"white\",\"linecolor\":\"white\",\"ticks\":\"\",\"title\":{\"standoff\":15},\"zerolinecolor\":\"white\",\"zerolinewidth\":2}}}},                        {\"staticPlot\": true, \"responsive\": true}                    ).then(function(){\n",
              "                            \n",
              "var gd = document.getElementById('8a350695-ca14-4ee4-b4d3-14553de837d5');\n",
              "var x = new MutationObserver(function (mutations, observer) {{\n",
              "        var display = window.getComputedStyle(gd).display;\n",
              "        if (!display || display === 'none') {{\n",
              "            console.log([gd, 'removed!']);\n",
              "            Plotly.purge(gd);\n",
              "            observer.disconnect();\n",
              "        }}\n",
              "}});\n",
              "\n",
              "// Listen for the removal of the full notebook cells\n",
              "var notebookContainer = gd.closest('#notebook-container');\n",
              "if (notebookContainer) {{\n",
              "    x.observe(notebookContainer, {childList: true});\n",
              "}}\n",
              "\n",
              "// Listen for the clearing of the current output cell\n",
              "var outputEl = gd.closest('.output');\n",
              "if (outputEl) {{\n",
              "    x.observe(outputEl, {childList: true});\n",
              "}}\n",
              "\n",
              "                        })                };                            </script>        </div>\n",
              "</body>\n",
              "</html>"
            ]
          },
          "metadata": {}
        }
      ]
    },
    {
      "cell_type": "markdown",
      "source": [
        "# Q5\n",
        "## 使用上面方法分類舊金山犯罪類型39種(評分 only on SVM 的處理)"
      ],
      "metadata": {
        "id": "GJYARKSrTDQJ"
      }
    },
    {
      "cell_type": "code",
      "source": [
        "from sklearn.svm import SVC\n",
        "import pandas as pd\n",
        "import numpy as np\n",
        "import optuna\n",
        "import string\n",
        "from sklearn import preprocessing\n",
        "from sklearn.model_selection import train_test_split\n",
        "\n",
        "\n",
        "\n",
        "\n",
        "train = pd.read_csv(\"train.csv\")\n",
        "test = pd.read_csv(\"test.csv\")\n",
        "\n",
        "# 確認有無空值\n",
        "# train.isnull().sum()\n",
        "\n",
        "# 統計資料類型\n",
        "cate_group = train.groupby(by='Category').size()\n",
        "\n",
        "# 統計 Label 種類\n",
        "cate_num = len(cate_group.index)\n",
        "\n",
        "# 將 index 改變為每個單字字首大寫其餘小寫並回傳\n",
        "cate_group.index = cate_group.index.map(string.capwords)\n",
        "\n",
        "# 依造數量做排序(多→少)\n",
        "cate_group.sort_values(ascending = False, inplace = True)\n",
        "\n",
        "# Train 解析日期(年/月/日)\n",
        "train['date'] = pd.to_datetime(train['Dates'])\n",
        "train['year'] = train.date.dt.year\n",
        "train['month'] = train.date.dt.month\n",
        "train['day'] = train.date.dt.day\n",
        "train['hour'] = train.date.dt.hour\n",
        "\n",
        "# Test 解析日期(年/月/日)\n",
        "test['date'] = pd.to_datetime(test['Dates'])\n",
        "test['year'] = test.date.dt.year\n",
        "test['month'] = test.date.dt.month\n",
        "test['day'] = test.date.dt.day\n",
        "test['hour'] = test.date.dt.hour\n",
        "\n",
        "# 對分類目標做標籤化處理\n",
        "Label = preprocessing.LabelEncoder()\n",
        "Target = Label.fit_transform(train.Category)\n",
        "\n",
        "# 處理不統一的特徵\n",
        "Id = test['Id']\n",
        "des = train['Descript']\n",
        "res = train['Resolution']\n",
        "train.drop(['Category', 'Descript', 'Resolution'], axis = 1, inplace = True)\n",
        "test.drop('Id', axis = 1, inplace = True)\n",
        "\n",
        "# 合併數據\n",
        "full = pd.concat([train, test], keys=['train', 'test'])\n",
        "\n",
        "# 將 DayOfWeek 做 one hot encoder\n",
        "week_dum = pd.get_dummies(full.DayOfWeek)\n",
        "\n",
        "full.drop('Address', axis = 1, inplace = True)\n",
        "dist = pd.get_dummies(full.PdDistrict)\n",
        "\n",
        "full.drop(['Dates', 'date'], axis = 1, inplace = True)\n",
        "\n",
        "full['newy'] = full['month'].apply(lambda x:1 if x == 1 or x == 2 else 0)\n",
        "full['dark'] = full['hour'].apply(lambda x:1 if x >= 18 and x <= 24 else 0)\n",
        "\n",
        "hour_dum = pd.get_dummies(full.hour)\n",
        "year_dum = pd.get_dummies(full.year)\n",
        "month_dum = pd.get_dummies(full.month)\n",
        "\n",
        "full.drop(['month', 'hour', 'day', 'year', 'DayOfWeek', 'PdDistrict'], axis = 1, inplace = True)\n",
        "full = pd.concat([full, week_dum, dist, year_dum, month_dum, hour_dum], axis = 1)\n",
        "\n",
        "X_train, X_valid, Y_train, Y_valid = train_test_split(full[:train.shape[0]], Target, train_size = 0.7, random_state = 0)\n",
        "\n",
        "model = SVC()\n",
        "model.fit(X_train, Y_train)\n",
        "model.score(X_valid, Y_valid)\n",
        "\n",
        "\n",
        "\n",
        "\n"
      ],
      "metadata": {
        "id": "20x-o4G8KY_T",
        "colab": {
          "base_uri": "https://localhost:8080/"
        },
        "outputId": "391dd012-4a4e-4402-86ec-ed6cd8090b67"
      },
      "execution_count": null,
      "outputs": [
        {
          "metadata": {
            "tags": null
          },
          "name": "stderr",
          "output_type": "stream",
          "text": [
            "/usr/local/lib/python3.7/dist-packages/sklearn/utils/validation.py:1692: FutureWarning: Feature names only support names that are all strings. Got feature names with dtypes: ['int', 'str']. An error will be raised in 1.2.\n",
            "  FutureWarning,\n"
          ]
        }
      ]
    }
  ]
}