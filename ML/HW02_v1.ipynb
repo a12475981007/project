{
  "nbformat": 4,
  "nbformat_minor": 0,
  "metadata": {
    "colab": {
      "provenance": [],
      "collapsed_sections": []
    },
    "kernelspec": {
      "name": "python3",
      "display_name": "Python 3"
    },
    "language_info": {
      "name": "python"
    }
  },
  "cells": [
    {
      "cell_type": "markdown",
      "source": [
        "#1. 請至Kaggle 找titanic dataset 使用 SVM\n",
        "簡單套用 model = SVC(), 查看 confusion matrix and accuracy 指標"
      ],
      "metadata": {
        "id": "MLKro3UbqThF"
      }
    },
    {
      "cell_type": "code",
      "execution_count": 58,
      "metadata": {
        "id": "ido-SuZquqpK"
      },
      "outputs": [],
      "source": [
        "import numpy as np\n",
        "import pandas as pd\n",
        "from sklearn.svm import SVC\n",
        "from sklearn.model_selection import train_test_split\n",
        "from sklearn.metrics import confusion_matrix\n",
        "from sklearn.impute import SimpleImputer\n",
        "\n",
        "\n",
        "data = pd.read_csv('train.csv')\n",
        "X = data[['Pclass', 'Age', 'SibSp', 'Parch', 'Fare', 'Sex']]\n",
        "y = data['Survived']\n",
        "\n",
        "#one-hot-encording by using pandas\n",
        "X = pd.get_dummies(X)\n",
        "\n",
        "#資料遺失處理\n",
        "imputer = SimpleImputer(missing_values=np.nan, strategy='mean')\n",
        "imputer.fit(X)\n",
        "X = imputer.transform(X)\n",
        "# print(X[:10])\n",
        "\n",
        "\n",
        "#切分訓練與測試資料\n",
        "X_train, X_test, y_train, y_test = train_test_split(X, y, test_size = 0.2, random_state = 0)\n",
        "\n",
        "#模型訓練\n",
        "model = SVC().fit(X_train, y_train)\n"
      ]
    },
    {
      "cell_type": "markdown",
      "source": [
        "#2. Iris data set 3類 使用 SVM 並劃出boundary\n",
        "簡單套用 model = SVC(), 查看 confusion matrix and accuracy 指標"
      ],
      "metadata": {
        "id": "lD26ttDzsEV8"
      }
    },
    {
      "cell_type": "code",
      "source": [],
      "metadata": {
        "id": "EyoLaXqENj-e"
      },
      "execution_count": null,
      "outputs": []
    },
    {
      "cell_type": "markdown",
      "source": [
        "#3. Iirs dataset 挑一個做即可\n",
        "一對多法（one-versus-rest，OVR SVMs）and\n",
        "一對一法（one-versus-one，OVO SVMs）"
      ],
      "metadata": {
        "id": "jEJMKLumslA2"
      }
    },
    {
      "cell_type": "code",
      "source": [],
      "metadata": {
        "id": "0UhO0FYfCusk"
      },
      "execution_count": null,
      "outputs": []
    },
    {
      "cell_type": "markdown",
      "source": [
        "#4. 進行SVC 優化 (可進行超參數優化或是比對策略的優或)\n",
        "比對策略:OVR,OVO, （挑跟上面不一樣）和新型  DAG, hirachical \n",
        "超參數優化 Grid Serach, meta-heuristic, Optuna"
      ],
      "metadata": {
        "id": "I8KZL1hZNaD-"
      }
    },
    {
      "cell_type": "code",
      "source": [],
      "metadata": {
        "id": "cRvKu6TjNeb-"
      },
      "execution_count": null,
      "outputs": []
    },
    {
      "cell_type": "markdown",
      "source": [
        "#5. 將上面方法用在舊金山 犯罪類型39種吧（評分only on SVM 的處理）"
      ],
      "metadata": {
        "id": "dfbDgh_SNpet"
      }
    },
    {
      "cell_type": "code",
      "source": [],
      "metadata": {
        "id": "GlmEz8YFNuDv"
      },
      "execution_count": 36,
      "outputs": []
    }
  ]
}