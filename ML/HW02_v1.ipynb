{
  "nbformat": 4,
  "nbformat_minor": 0,
  "metadata": {
    "colab": {
      "provenance": [],
      "collapsed_sections": [],
      "name": "HW02_v1",
      "include_colab_link": true
    },
    "kernelspec": {
      "name": "python3",
      "display_name": "Python 3"
    },
    "language_info": {
      "name": "python"
    }
  },
  "cells": [
    {
      "cell_type": "markdown",
      "metadata": {
        "id": "view-in-github",
        "colab_type": "text"
      },
      "source": [
        "<a href=\"https://colab.research.google.com/github/a12475981007/project/blob/master/ML/HW02_v1.ipynb\" target=\"_parent\"><img src=\"https://colab.research.google.com/assets/colab-badge.svg\" alt=\"Open In Colab\"/></a>"
      ]
    },
    {
      "cell_type": "markdown",
      "source": [
        "#1. 請至Kaggle 找titanic dataset 使用 SVM\n",
        "簡單套用 model = SVC(), 查看 confusion matrix and accuracy 指標"
      ],
      "metadata": {
        "id": "MLKro3UbqThF"
      }
    },
    {
      "cell_type": "code",
      "execution_count": 4,
      "metadata": {
        "id": "ido-SuZquqpK",
        "outputId": "5cfd1955-ad27-43e3-d7f4-00c2bc7f77a0",
        "colab": {
          "base_uri": "https://localhost:8080/"
        }
      },
      "outputs": [
        {
          "output_type": "stream",
          "name": "stdout",
          "text": [
            "Accuracy:  0.7206703910614525\n",
            "Confusion Matrix:\n",
            " [[104   6]\n",
            " [ 44  25]]\n"
          ]
        }
      ],
      "source": [
        "import numpy as np\n",
        "import pandas as pd\n",
        "from sklearn.svm import SVC\n",
        "from sklearn.model_selection import train_test_split\n",
        "from sklearn.metrics import confusion_matrix\n",
        "from sklearn.impute import SimpleImputer\n",
        "\n",
        "\n",
        "data = pd.read_csv('train.csv')\n",
        "X = data[['Pclass', 'Age', 'SibSp', 'Parch', 'Fare', 'Sex']]\n",
        "y = data['Survived']\n",
        "\n",
        "#one-hot-encording by using pandas\n",
        "X = pd.get_dummies(X)\n",
        "\n",
        "#資料遺失處理\n",
        "imputer = SimpleImputer(missing_values=np.nan, strategy='mean')\n",
        "imputer.fit(X)\n",
        "X = imputer.transform(X)\n",
        "# print(X[:10])\n",
        "\n",
        "\n",
        "#切分訓練與測試資料\n",
        "X_train, X_test, y_train, y_test = train_test_split(X, y, test_size = 0.2, random_state = 0)\n",
        "\n",
        "#模型訓練\n",
        "model = SVC().fit(X_train, y_train)\n",
        "\n",
        "#Confusion matrix & Accuracy\n",
        "svc_score = model.score(X_test, y_test)\n",
        "svc_pred = model.predict(X_test)\n",
        "svc_matric = confusion_matrix(y_test, svc_pred)\n",
        "\n",
        "print('Accuracy: ', svc_score)\n",
        "print('Confusion Matrix:\\n', svc_matric)\n",
        "\n"
      ]
    },
    {
      "cell_type": "markdown",
      "source": [
        "#2. Iris data set 3類 使用 SVM 並劃出boundary\n",
        "簡單套用 model = SVC(), 查看 confusion matrix and accuracy 指標"
      ],
      "metadata": {
        "id": "lD26ttDzsEV8"
      }
    },
    {
      "cell_type": "code",
      "source": [
        "from sklearn import datasets\n",
        "from sklearn.svm import SVC\n",
        "from mlxtend.plotting import plot_decision_regions\n",
        "import matplotlib.pyplot as plt\n",
        "\n",
        "#Load Iris dataset\n",
        "iris = datasets.load_iris()\n",
        "\n",
        "X = iris.data[:, :2]\n",
        "y = iris.target\n",
        "\n",
        "#  create a mesh to plot in\n",
        "h = 0.02\n",
        "x_min, x_max = X[:, 0].min() - 1, X[:, 0].max() + 1\n",
        "y_min, y_max = X[:, 1].min() - 1, X[:, 1].max() + 1\n",
        "xx, yy = np.meshgrid(np.arange(x_min, x_max, h),\n",
        "                     np.arange(y_min, y_max, h))\n",
        "\n",
        "model = SVC(kernel = 'linear')\n",
        "model.fit(X, y)\n",
        "\n",
        "plot_decision_regions(X, y, clf=model, legend=2)\n",
        "\n",
        "# Adding axes annotations\n",
        "plt.xlabel('sepal length [cm]')\n",
        "plt.ylabel('petal length [cm]')\n",
        "plt.title('Iris Classification')\n",
        "plt.show()\n",
        "\n",
        "X_train, X_test, y_train, y_test = train_test_split(X, y, test_size = 0.2, random_state = 0) \n",
        "iris_score = model.score(X_test, y_test)\n",
        "iris_pred = model.predict(X_test)\n",
        "iris_matrix = confusion_matrix(y_test, iris_pred)\n",
        "\n",
        "print(\"Accuracy:\", iris_score)\n",
        "print(\"Confusion Matrix:\\n\", iris_matrix)\n"
      ],
      "metadata": {
        "id": "EyoLaXqENj-e",
        "outputId": "a1684019-77cd-4a49-acad-724504505beb",
        "colab": {
          "base_uri": "https://localhost:8080/",
          "height": 440
        }
      },
      "execution_count": 38,
      "outputs": [
        {
          "output_type": "stream",
          "name": "stderr",
          "text": [
            "/usr/local/lib/python3.7/dist-packages/mlxtend/plotting/decision_regions.py:244: MatplotlibDeprecationWarning: Passing unsupported keyword arguments to axis() will raise a TypeError in 3.3.\n",
            "  ax.axis(xmin=xx.min(), xmax=xx.max(), y_min=yy.min(), y_max=yy.max())\n"
          ]
        },
        {
          "output_type": "display_data",
          "data": {
            "text/plain": [
              "<Figure size 432x288 with 1 Axes>"
            ],
            "image/png": "[encoded data removed]"
          },
          "metadata": {
            "needs_background": "light"
          }
        },
        {
          "output_type": "stream",
          "name": "stdout",
          "text": [
            "Accuracy: 0.7333333333333333\n",
            "Confusion Matrix:\n",
            " [[11  0  0]\n",
            " [ 0  9  4]\n",
            " [ 0  4  2]]\n"
          ]
        }
      ]
    },
    {
      "cell_type": "markdown",
      "source": [
        "#3. Iirs dataset 挑一個做即可\n",
        "一對多法（one-versus-rest，OVR SVMs）and\n",
        "一對一法（one-versus-one，OVO SVMs）"
      ],
      "metadata": {
        "id": "jEJMKLumslA2"
      }
    },
    {
      "cell_type": "code",
      "source": [
        "from sklearn.multiclass import OneVsOneClassifier\n",
        "\n",
        "X = iris.data\n",
        "y = iris.target\n",
        "\n",
        "X_train, X_test, y_train, y_test = train_test_split(X, y, test_size = 0.5, random_state = 0) \n",
        "\n",
        "svc_model = SVC()\n",
        "\n",
        "ovo_model = OneVsOneClassifier(svc_model)\n",
        "ovo_model.fit(X_train, y_train)\n",
        "\n",
        "ovo_score = ovo_model.score(X_test, y_test)\n",
        "ovo_pred = ovo_model.predict(X_test)\n",
        "ovo_matrix = confusion_matrix(y_test, ovo_pred)\n",
        "\n",
        "print(\"one-versus-one\\nAccuracy:\", ovo_score)\n",
        "print(\"Confusion Matrix:\\n\", ovo_matrix)\n"
      ],
      "metadata": {
        "id": "0UhO0FYfCusk",
        "outputId": "c339c586-6cb6-4b0f-d591-8e789f5bc161",
        "colab": {
          "base_uri": "https://localhost:8080/"
        }
      },
      "execution_count": 46,
      "outputs": [
        {
          "output_type": "stream",
          "name": "stdout",
          "text": [
            "one-versus-one\n",
            "Accuracy: 0.9466666666666667\n",
            "Confusion Matrix:\n",
            " [[21  0  0]\n",
            " [ 0 29  1]\n",
            " [ 0  3 21]]\n"
          ]
        }
      ]
    },
    {
      "cell_type": "markdown",
      "source": [
        "#4. 進行SVC 優化 (可進行超參數優化或是比對策略的優或)\n",
        "比對策略:OVR,OVO, （挑跟上面不一樣）和新型  DAG, hirachical \n",
        "超參數優化 Grid Serach, meta-heuristic, Optuna"
      ],
      "metadata": {
        "id": "I8KZL1hZNaD-"
      }
    },
    {
      "cell_type": "code",
      "source": [],
      "metadata": {
        "id": "cRvKu6TjNeb-"
      },
      "execution_count": null,
      "outputs": []
    },
    {
      "cell_type": "markdown",
      "source": [
        "#5. 將上面方法用在舊金山 犯罪類型39種吧（評分only on SVM 的處理）"
      ],
      "metadata": {
        "id": "dfbDgh_SNpet"
      }
    },
    {
      "cell_type": "code",
      "source": [],
      "metadata": {
        "id": "GlmEz8YFNuDv"
      },
      "execution_count": null,
      "outputs": []
    }
  ]
}